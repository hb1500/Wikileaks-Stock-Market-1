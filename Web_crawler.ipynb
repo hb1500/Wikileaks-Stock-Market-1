{
 "cells": [
  {
   "cell_type": "markdown",
   "metadata": {},
   "source": [
    "## Installed Required Packages"
   ]
  },
  {
   "cell_type": "code",
   "execution_count": 28,
   "metadata": {},
   "outputs": [
    {
     "name": "stdout",
     "output_type": "stream",
     "text": [
      "Collecting fake-useragent\n",
      "  Downloading fake-useragent-0.1.10.tar.gz\n",
      "Building wheels for collected packages: fake-useragent\n",
      "  Running setup.py bdist_wheel for fake-useragent ... \u001b[?25ldone\n",
      "\u001b[?25h  Stored in directory: /Users/jieyuwang/Library/Caches/pip/wheels/07/04/1d/bbd8ba7d692add504b44552504b7df239bddf56aa3387cee2b\n",
      "Successfully built fake-useragent\n",
      "Installing collected packages: fake-useragent\n",
      "Successfully installed fake-useragent-0.1.10\n"
     ]
    }
   ],
   "source": [
    "import sys\n",
    "!{sys.executable} -m pip install fake-useragent"
   ]
  },
  {
   "cell_type": "code",
   "execution_count": 235,
   "metadata": {},
   "outputs": [
    {
     "name": "stdout",
     "output_type": "stream",
     "text": [
      "Collecting BeautifulSoup\n",
      "  Downloading BeautifulSoup-3.2.1.tar.gz\n",
      "    Complete output from command python setup.py egg_info:\n",
      "    Traceback (most recent call last):\n",
      "      File \"<string>\", line 1, in <module>\n",
      "      File \"/private/var/folders/pd/lj_g7cpj6nq6jqn0_47v2fxc0000gn/T/pip-build-6a69sbyc/BeautifulSoup/setup.py\", line 22\n",
      "        print \"Unit tests have failed!\"\n",
      "                                      ^\n",
      "    SyntaxError: Missing parentheses in call to 'print'. Did you mean print(int \"Unit tests have failed!\")?\n",
      "    \n",
      "    ----------------------------------------\n",
      "\u001b[31mCommand \"python setup.py egg_info\" failed with error code 1 in /private/var/folders/pd/lj_g7cpj6nq6jqn0_47v2fxc0000gn/T/pip-build-6a69sbyc/BeautifulSoup/\u001b[0m\n"
     ]
    }
   ],
   "source": [
    "!{sys.executable} -m pip install BeautifulSoup"
   ]
  },
  {
   "cell_type": "code",
   "execution_count": null,
   "metadata": {
    "collapsed": true
   },
   "outputs": [],
   "source": [
    "!{sys.executable} -m pip install selenium"
   ]
  },
  {
   "cell_type": "markdown",
   "metadata": {},
   "source": [
    "Download Chrome WebDriver: https://sites.google.com/a/chromium.org/chromedriver/getting-started\n",
    "\n",
    "Then include the ChromeDriver location in your PATH environment variable"
   ]
  },
  {
   "cell_type": "markdown",
   "metadata": {},
   "source": [
    "## Web Crapper Functions"
   ]
  },
  {
   "cell_type": "code",
   "execution_count": 1,
   "metadata": {
    "collapsed": true
   },
   "outputs": [],
   "source": [
    "import requests\n",
    "from fake_useragent import UserAgent\n",
    "from bs4 import BeautifulSoup\n",
    "import re\n",
    "def craw_one_page(url):\n",
    "    user_agent = UserAgent()\n",
    "    page = requests.get(url,headers={'user-agent':user_agent.chrome})\n",
    "    content=page.content.decode('utf-8')\n",
    "    soup = BeautifulSoup(content,'lxml')\n",
    "    \n",
    "    dict_result={}\n",
    "    \n",
    "    source=soup.find_all('div',attrs={'pane-header'})\n",
    "    tabs = [div.string for div in source]\n",
    "    tabs=tabs[:-2]\n",
    "    \n",
    "    \n",
    "    source=soup.find_all('div',attrs={'text-content'})\n",
    "    tabs_values = [div.string for div in source]\n",
    "    \n",
    "    for i in range(len(tabs)):\n",
    "        dict_result[tabs[i]]=tabs_values[i]\n",
    "    \n",
    "    source=soup.find_all('a',attrs={'i'})\n",
    "    keys = [div[\"title\"] for div in source]\n",
    "    \n",
    "    source=soup.find_all('div',attrs={'s_val'})\n",
    "    values = [div[\"title\"] for div in source]\n",
    "    \n",
    "    for i in range(len(keys)):\n",
    "        dict_result[keys[i]]=values[i]\n",
    "    return dict_result"
   ]
  },
  {
   "cell_type": "code",
   "execution_count": 51,
   "metadata": {},
   "outputs": [],
   "source": [
    "def get_number_of_search_result(source):\n",
    "    browser=webdriver.Chrome()\n",
    "    \n",
    "    soup=BeautifulSoup(source,'lxml')\n",
    "    source=soup.find('p', style={\"font-size:14px\"})\n",
    "    #for div in source:\n",
    "    return int (source.get_text()[36:-15])"
   ]
  },
  {
   "cell_type": "code",
   "execution_count": 33,
   "metadata": {},
   "outputs": [],
   "source": [
    "import time \n",
    "from selenium import webdriver\n",
    "from selenium.webdriver.common.keys import Keys \n",
    "def crawl_search_source(search_url):\n",
    "    browser=webdriver.Chrome()\n",
    "    browser.get(search_url)\n",
    "    number_search_result=get_number_of_search_result(browser.page_source)\n",
    "    number_500=number_search_result//500\n",
    "    number_100=(number_search_result-number_500*500)//100\n",
    "    number_20=(number_search_result-number_500*500-number_100*100)//20\n",
    "    for i in range(number_500):\n",
    "        try:\n",
    "            ele=browser.find_element_by_id(\"button_next500\")\n",
    "            try:\n",
    "                ele.click()\n",
    "            except:\n",
    "                time.sleep(0.1)\n",
    "                i=i-1\n",
    "        except:\n",
    "            pass\n",
    "    for i in range(number_100):\n",
    "        try:\n",
    "            ele=browser.find_element_by_id(\"button_next100\")\n",
    "            try:\n",
    "                ele.click()\n",
    "            except:\n",
    "                time.sleep(0.1)\n",
    "                i=i-1\n",
    "        except:\n",
    "            pass\n",
    "    for i in range(number_20):\n",
    "        try:\n",
    "            ele=browser.find_element_by_id(\"button_next20\")\n",
    "            try:\n",
    "                ele.click()\n",
    "            except:\n",
    "                time.sleep(0.1)\n",
    "                i=i-1\n",
    "        except:\n",
    "            pass\n",
    "    return browser.page_source, number_search_result"
   ]
  },
  {
   "cell_type": "code",
   "execution_count": 34,
   "metadata": {},
   "outputs": [],
   "source": [
    "from collections import OrderedDict\n",
    "def find_links_from_source(soup, number_search_result):\n",
    "    Tagged_text=soup.find_all('a',target={'_blank'}, )\n",
    "    set_url=[]\n",
    "    Tagged_text_unique=list(OrderedDict.fromkeys(Tagged_text))\n",
    "    for x in Tagged_text_unique:\n",
    "        url=x[\"href\"]\n",
    "        if (url[0:14]==\"/plusd/cables/\"):\n",
    "            set_url.append(x[\"href\"])\n",
    "    return set_url[0:number_search_result]"
   ]
  },
  {
   "cell_type": "code",
   "execution_count": 5,
   "metadata": {},
   "outputs": [],
   "source": [
    "import json\n",
    "def save_obj(data):\n",
    "    with open('data_crawled.json', 'w') as fp:\n",
    "        json.dump(data, fp)"
   ]
  },
  {
   "cell_type": "code",
   "execution_count": 53,
   "metadata": {},
   "outputs": [],
   "source": [
    "def crawl_search_result(set_url):\n",
    "    url_head= 'https://search.wikileaks.org'\n",
    "    final_result={}\n",
    "    i=0\n",
    "    print (\"total number of links: {}\".format(len(set_url)))\n",
    "    for x in set_url:\n",
    "        print (x[14:-5], \"{} out of {} jobs done\".format(i+1, len(set_url)))\n",
    "        final_result[x[14:]]=craw_one_page(url_head+x)\n",
    "        if (i//10==0):\n",
    "            save_obj(final_result)\n",
    "        i=i+1\n",
    "    save_obj(final_result)\n",
    "    return final_result"
   ]
  },
  {
   "cell_type": "code",
   "execution_count": 54,
   "metadata": {
    "collapsed": true
   },
   "outputs": [],
   "source": [
    "search_url=\"https://search.wikileaks.org/plusd/?qproject[]=ps&qproject[]=cg&qproject[]=cc&qproject[]=fp&qproject[]=ee&q=&qtfrom=1999-01-01&qtto=1999-12-31#result\""
   ]
  },
  {
   "cell_type": "code",
   "execution_count": 55,
   "metadata": {},
   "outputs": [
    {
     "name": "stdout",
     "output_type": "stream",
     "text": [
      "total number of links: 56\n",
      "99CARACAS25_a 1 out of 56 jobs done\n",
      "99CARACAS25_a 2 out of 56 jobs done\n",
      "99CARACAS25_a 3 out of 56 jobs done\n",
      "99CARACAS25_a 4 out of 56 jobs done\n",
      "99CARACAS25_a 5 out of 56 jobs done\n",
      "99STATE2487_a 6 out of 56 jobs done\n",
      "99STATE2487_a 7 out of 56 jobs done\n",
      "99STATE2487_a 8 out of 56 jobs done\n",
      "99STATE2487_a 9 out of 56 jobs done\n",
      "99STATE2487_a 10 out of 56 jobs done\n",
      "99HAVANA75_a 11 out of 56 jobs done\n",
      "99HAVANA75_a 12 out of 56 jobs done\n",
      "99HAVANA75_a 13 out of 56 jobs done\n",
      "99HAVANA75_a 14 out of 56 jobs done\n",
      "99HAVANA75_a 15 out of 56 jobs done\n",
      "99DAMASCUS239_a 16 out of 56 jobs done\n",
      "99DAMASCUS239_a 17 out of 56 jobs done\n",
      "99DAMASCUS239_a 18 out of 56 jobs done\n",
      "99DAMASCUS239_a 19 out of 56 jobs done\n",
      "99DAMASCUS239_a 20 out of 56 jobs done\n",
      "99TUNIS305_a 21 out of 56 jobs done\n",
      "99TUNIS305_a 22 out of 56 jobs done\n",
      "99TUNIS305_a 23 out of 56 jobs done\n",
      "99TUNIS305_a 24 out of 56 jobs done\n",
      "99TUNIS305_a 25 out of 56 jobs done\n",
      "99ISLAMABAD495_a 26 out of 56 jobs done\n",
      "99ISLAMABAD495_a 27 out of 56 jobs done\n",
      "99ISLAMABAD495_a 28 out of 56 jobs done\n",
      "99ISLAMABAD495_a 29 out of 56 jobs done\n",
      "99ISLAMABAD495_a 30 out of 56 jobs done\n",
      "99MOSCOW2479_a 31 out of 56 jobs done\n",
      "99MOSCOW2479_a 32 out of 56 jobs done\n",
      "99MOSCOW2479_a 33 out of 56 jobs done\n",
      "99MOSCOW2479_a 34 out of 56 jobs done\n",
      "99MOSCOW2479_a 35 out of 56 jobs done\n",
      "99CARACAS400_a 36 out of 56 jobs done\n",
      "99CARACAS400_a 37 out of 56 jobs done\n",
      "99CARACAS400_a 38 out of 56 jobs done\n",
      "99CARACAS400_a 39 out of 56 jobs done\n",
      "99CARACAS400_a 40 out of 56 jobs done\n",
      "99CARACAS404_a 41 out of 56 jobs done\n",
      "99CARACAS404_a 42 out of 56 jobs done\n",
      "99CARACAS404_a 43 out of 56 jobs done\n",
      "99CARACAS404_a 44 out of 56 jobs done\n",
      "99CARACAS404_a 45 out of 56 jobs done\n",
      "99STATE31692_a 46 out of 56 jobs done\n",
      "99STATE31692_a 47 out of 56 jobs done\n",
      "99STATE31692_a 48 out of 56 jobs done\n",
      "99STATE31692_a 49 out of 56 jobs done\n",
      "99STATE31692_a 50 out of 56 jobs done\n",
      "99MOSCOW4277_a 51 out of 56 jobs done\n",
      "99MOSCOW4277_a 52 out of 56 jobs done\n",
      "99MOSCOW4277_a 53 out of 56 jobs done\n",
      "99MOSCOW4277_a 54 out of 56 jobs done\n",
      "99MOSCOW4277_a 55 out of 56 jobs done\n",
      "99CARACAS745_a 56 out of 56 jobs done\n"
     ]
    }
   ],
   "source": [
    "source, number_search_result=crawl_search_source(search_url)\n",
    "soup = BeautifulSoup(source,'lxml')\n",
    "set_url=find_links_from_source(soup, number_search_result)\n",
    "result=crawl_search_result(set_url)"
   ]
  },
  {
   "cell_type": "code",
   "execution_count": 57,
   "metadata": {
    "scrolled": false
   },
   "outputs": [
    {
     "data": {
      "text/plain": [
       "{'Archive Status': ' -- Not Assigned -- (251288 documents)',\n",
       " 'Canonical ID': ' 99CARACAS25_a',\n",
       " 'Character Count': ' 10079',\n",
       " 'Concepts': ' -- Not Assigned --',\n",
       " 'Content': 'FOREIGN MINISTER \\n \\nCLASSIFIED BY THOMAS A. SHANNON, POLITICAL COUNSELOR.  REASON: 1.5 \\n(B) AND (D). \\n \\n--------------------------------------------- -------- \\nJOSE VICENTE RANGEL: VENEZUELA\\'S NEW FOREIGN MINISTER \\n--------------------------------------------- -------- \\n \\n1.(U)  PRESIDENT-ELECT HUGO CHAVEZ FRIAS NAMED JOSE VICENTE RANGEL \\nAS HIS FOREIGN MINISTER DESIGNATE.  THOUGH A LAWYER BY EDUCATION \\nAND A JOURNALIST BY PROFESSION, RANGEL HAS A LONG AND STORIED \\nCAREER IN VENEZUELAN POLITICS.  AS A LAW STUDENT, HE LED A STUDENT \\nREVOLT AGAINST THE PEREZ JIMENEZ DICTATORSHIP AND WAS EXILED FOR \\nHIS PARTICIPATION.  HE LATER RETURNED TO VENEZUELA AND SERVED FOR \\nNEARLY 30 YEARS IN THE CONGRESS.  DURING THIS PERIOD HE HELPED \\nFOUND THE LEFTIST NEWSPAPER, EL CLARIN, WON THE NATIONAL PRIZE FOR \\nJOURNALISM, AND RAN UNSUCCESSFULLY FOR PRESIDENT THREE TIMES (NEVER \\nGARNERING MORE THAN 5.2OF THE VOTE.)  EVEN NOW, THE SIXTY-NINE \\nYEAR OLD LEADS AN ACTIVE PROFESSIONAL LIFE, PUBLISHING COLUMNS IN \\nTHE NEWSPAPERS EL DIARIO AND EL UNIVERSAL, AND HOSTING A POPULAR \\nSUNDAY TELEVISION OPINION PROGRAM. \\n \\n------------------- \\nTHE FORMATIVE YEARS \\n------------------- \\n \\n2.(U)  BORN IN CARACAS ON JULY 10, 1929, RANGEL FIRST EXPERIENCED \\nPOLITICAL TURMOIL IN 1935, WHEN HIS FATHER, A STAUNCH SUPPORTER OF \\nDICTATOR JUAN VICENTE GOMEZ, WAS FORCED TO FLEE VENEZUELA FOR \\nCOLOMBIA UPON GOMEZ\\'S DEATH.  AT THE AGE OF SIXTEEN, WHILE \\nATTENDING SCHOOL IN BARQUISIMETO,  HE BECAME POLITICALLY ACTIVE \\nAFTER LISTENING TO JOVITO VILLALBA OF THE DEMOCRATIC REPUBLICAN \\nUNION (URD) SPEAK. INSPIRED, HE JOINED THE YOUTH SECTION OF THE \\nURD. \\n \\n3.(U)  AFTER HIGH SCHOOL, HE ENROLLED IN THE UNIVERSITY OF THE \\nANDES IN MERIDA TO PURSUE A DEGREE IN LAW, BUT LATER TRANSFERRED TO \\nTHE CENTRAL UNIVERSITY OF VENEZUELA IN CARACAS.  HE DID NOT, \\nHOWEVER, COMPLETE HIS STUDIES.  IN 1953, ALONG WITH CHEITO HERRERA \\nOROPEZA, LUIS HERRERA CAMPINS (FUTURE PRESIDENT AND SOCIAL \\nCHRISTIAN PARTY LEADER), AND EDUARDO GONZALEZ, RANGEL LED A STUDENT \\nPROTEST AGAINST THE CORRUPTION OF THE PEREZ JIMENEZ GOVERNMENT. \\nTHE PROTEST LED TO RANGEL\\'S OWN EXILE TO CHILE AND SPAIN.  HIS \\nEXILE HAD A SIGNIFICANT IMPACT ON HIS LIFE IN TWO AREAS. \\nPOLITICALLY, HIS TIME IN EXILE HARDENED HIS POSITION AGAINST \\nCORRUPTION AND HIS VIEWPOINT ON GOVERNMENT.  PERSONALLY, HE MET AND \\nMARRIED ANA AVALOS, A CHILEAN SCULPTRESS, TO WHOM HE IS STILL \\nMARRIED (WITH TWO CHILDREN) AND TO WHOM HE CLAIMS TO WRITE A NEW \\nPOEM EVERY DAY.  RANGEL RETURNED TO VENEZUELA IN 1958 FOLLOWING THE \\nFALL OF PEREZ JIMENEZ AND WAS APPOINTED TO THE MUNICIPAL COUNCIL OF \\nTHE FEDERAL DISTRICT, AND THEN WAS ELECTED TO THE CHAMBER OF \\nDEPUTIES. \\n \\n----------------- \\nPOLITICAL TURMOIL \\n----------------- \\n \\n4.(U)  RANGEL\\'S POLITICAL ACTIVITIES INCREASED IN THE SIXTIES.  IN \\n1962, AS A MEMBER OF THE URD, HE WAS NAMED PRESIDENT OF THE \\nCOMMISSION ON INTERNAL POLICY OF THE CHAMBER OF DEPUTIES, AND WAS \\nREELECTED TO THE CHAMBER IN 1963.  WHEN RAUL LEONI OF DEMOCRATIC \\nACTION (AD) BECAME PRESIDENT IN 1964, LEONI, JOVITO VILLALBA OF THE \\nURD, AND ARTURO USLAR PIETRI OF THE NATIONAL DEMOCRATIC FRONT (FND) \\nAGREED TO FORM A NATIONAL POLITICAL FRONT - CALLED \"WIDE BASE\" -TO \\nINSURE THE GOVERNABILITY OF VENEZUELA.  RANGEL VEHEMENTLY DISAGREED \\nWITH URD\\'S PARTICIPATION IN THE FRONT AND LEFT THE PARTY. \\n \\n5.(C)  RANGEL BEGAN HIS FORMAL ASSOCIATION WITH SOCIALISM AT THAT \\nTIME AND ALONG WITH SOME OTHER EX-URD LEADERS FORMED THE \\nNATIONALIST POPULAR VANGUARD (VPN).  DURING THIS PERIOD, RANGEL \\nDEVELOPED A WORKING RELATIONSHIP WITH GUERILLA ORGANIZATIONS.  HIS \\nOVERT POLITICAL ACTIVITIES WERE SEEN BY HIS ENEMIES AS A FRONT FOR \\nCLANDESTINE ORGANIZATIONS.  IN 1966, WISHING TO UNIFY THE DISPARATE \\nLEFTIST PARTIES, HE JOINED THE REVOLUTIONARY PARTY OF NATIONALISTIC \\nINTEGRATION (PRIN).  THE LOFTY UNIFICATION GOALS WERE NEVER \\nACHIEVED AND THE PARTY COLLAPSED AFTER THREE YEARS.   DURING THIS \\nPERIOD, RANGEL MET AND BECAME FRIENDS WITH LUIS MIQUILENA (NEWLY- \\nAPPOINTED MINISTER OF THE INTERIOR IN THE CHAVEZ CABINET.)  THE TWO \\nFOUNDED THE NEWSPAPER, EL CLARIN, WHICH WAS THE MOUTHPIECE OF THE \\nVENEZUELAN LEFT. \\n \\n------------------------------------ \\nPRESIDENTIAL ASPIRATIONS UNFULFILLED \\n------------------------------------ \\n \\n6.(U)  THROUGH IT ALL, RANGEL MAINTAINED HIS POSITION IN THE \\nCHAMBER OF DEPUTIES.  IN 1973 AS THE MOVEMENT TOWARD SOCIALISM \\nPARTY (MAS) CANDIDATE, AND WITH LUIS MIQUILENA AS HIS CAMPAIGN \\nMANAGER, HE RAN FOR PRESIDENT.  UNFORTUNATELY FOR RANGEL, HIS \\nCANDIDACY NEVER STRUCK A CHORD WITH THE PEOPLE, AND HE FINISHED A \\nDISTANT FOURTH (4.3) BEHIND WINNER CARLOS ANDRES PEREZ (48.7). \\nUNDAUNTED BY HIS SHOWING IN THE 1973 ELECTIONS, HE RAN AGAIN FOR \\nPRESIDENT UNDER THE MAS FLAG IN 1978 (THIRD PLACE WITH 5.2) AND \\nAGAIN IN 1983 (FOURTH PLACE WITH 3.3) AS THE NEW ALTERNATIVE PARTY \\n(NA) CANDIDATE. \\n \\n------------------ \\nTHE CAP CONNECTION \\n------------------ \\n \\n7.(U)  RANGEL AND CARLOS ANDRES PEREZ (CAP) HAVE A STRONG AND \\nIRONIC POLITICAL CONNECTION, TIED TO TWO SCANDALS.  IN 1980, CAP\\'S \\nPOLITICAL ENEMIES WANTED HIM REMOVED FROM THE SCENE.  HAVING JUST \\nCOMPLETED HIS TERM AS PRESIDENT, CAP WAS THEN SENATOR-FOR-LIFE. \\nDURING HIS PRESIDENCY, THE GOVERNMENT HAD BOUGHT A REFRIGERATED \\nFISHING BOAT -- THE SIERRA NEVADA -- FROM NORWAY AT AN INFLATED \\nPRICE.  BECAUSE THIS MISMANAGEMENT OCCURRED DURING CAP\\'S \\nPRESIDENCY, HIS ENEMIES WANTED HIM HELD LEGALLY RESPONSIBLE FOR THE \\nMALFEASANCE, AND SOUGHT TO IMPEACH AND REMOVE HIM FROM THE SENATE. \\nCONGRESSIONAL IMPEACHMENT ACTION FELL ONE VOTE SHORT.  THE ONE VOTE \\nWAS THAT OF JOSE VICENTE RANGEL, WHO ABSTAINED, AND SAVED CAP\\'S \\nPOLITICAL CAREER.  RANGEL EXPLAINED HIS ABSTENTION BY SAYING \"THE \\nSIERRA NEVADA DEAL WAS UNDOUBTEDLY IMMORAL\", BUT NOT AN IMPEACHABLE \\nOFFENSE. \\n \\n8.(C)  QUESTIONS WERE RAISED ABOUT RANGEL\\'S ABSTENTION AND THE \\nACQUITTAL OF CAP.  RANGEL\\'S POLITICAL ENEMIES CLAIMED THAT CAP \\nDIRECTLY PAID OFF RANGEL.  A MORE SORDID VERSION HAS ALSO \\nCIRCULATED.  ACCORDING TO THE STORY, RANGEL\\'S WIFE WAS INVOLVED \\nWITH A WELL-KNOWN GUERILLA IN ILLEGAL ACTIVITIES.  IN EXCHANGE FOR \\nHIS ABSTENTION, THE STORY GOES, CAP INTERVENED AND STOPPED HER \\nPROSECUTION. \\n \\n9.(U)  NINE YEARS LATER, RANGEL, WORKING AS AN INVESTIGATIVE \\nJOURNALIST HELPED UNCOVER THE SCANDAL THAT LED TO CAP\\'S IMPEACHMENT \\nAND IMPRISONMENT.  RANGEL DISCOVERED THAT DURING CAP\\'S SECOND TERM \\nAS PRESIDENT (1988 - 1993,) 250 MILLION BOLIVARES (APPROX. $16 \\nMILLION) WERE SECRETLY AND ILLEGALLY FUNNELED THROUGH THE \\nSECRETARIAT OF THE PRESIDENCY TO FINANCE THE FORMATION OF \\nNICARAGUAN PRESIDENT VIOLETA CHAMORRO\\'S SECURITY FORCE.  IN THE \\nCOURSE OF PASSING THE MONEY, THE BOLIVARES WERE EXCHANGED FOR \\nDOLLARS AT A VERY FAVORABLE RATE, SUPPOSEDLY ALLOWING CAP TO SIPHON \\nOFF A LARGE SUM OF MONEY.  ALTHOUGH, CAP MAINTAINED HIS INNOCENCE, \\nTHIS TIME NOBODY CAME TO HIS RESCUE AND HE WAS REMOVED FROM OFFICE. \\n \\n--------------- \\nSEMI-RETIREMENT \\n--------------- \\n \\n10.(U)  IN THE LATE EIGHTIES, RANGEL RECEIVED MORE ATTENTION \\nFIGHTING INSTITUTIONAL CORRUPTION.  DURING THE LUSINCHI PRESIDENCY, \\nRANGEL REPORTED THAT THE MILITARY PLANNED TO PURCHASE OBSOLETE OR \\nDAMAGED EQUIPMENT AT INFLATED PRICES.  HE WAS DETAINED AND \\nINTERROGATED TWICE BY MILITARY INTELLIGENCE (DIM), IN AN ATTEMPT TO \\nINTIMIDATE HIM.  THE ACTIONS BY DIM ONLY INSPIRED HIM TO PRINT MORE \\nSTORIES.  IN THE END, HOWEVER, NO PROOF WAS EVER UNCOVERED TO \\nSUPPORT RANGEL\\'S ALLEGATIONS, AND THE MILITARY BOUGHT THE \\nEQUIPMENT. \\n \\n11.(U)  RANGEL HAS SPENT HIS RECENT YEARS HARD AT WORK, WRITING A \\nWEEKLY COLUMN IN EL DIARIO AND EL UNIVERSAL AND HOSTING A POPULAR \\nTELEVISION OPINION PROGRAM.  IN AUGUST 1992, RANGEL\\'S MOST \\nINTERESTING BROADCAST WAS NEVER AIRED.  SEVEN MONTHS AFTER HUGO \\nCHAVEZ\\'S UNSUCCESSFUL COUP ATTEMPT, RANGEL VIDEOTAPED A PRISON \\nINTERVIEW WITH CHAVEZ.  A MILITARY JUDGE PROHIBITED THE BROADCAST \\nOF THE SHOW AT THE LAST MINUTE.  RANGEL COUNTERED THIS MOVE BY \\nINVITING JOURNALISTS INTO HIS HOME FOR A PRIVATE SCREENING OF THE \\nVIDEO, PLAYED AT THE SCHEDULED AIR TIME OF HIS SHOW. \\n \\n12.(C)  RANGEL ENJOYS MAINTAINING A HIGH PROFILE AND HAS BEEN \\nCALLED THE MOST SEEN AND HEARD JOURNALIST IN VENEZUELA.  LIKE HIS \\nGOOD FRIEND AND POLITICAL COUNTERPART LUIS MIQUILENA, RANGEL HAS \\nNURTURED HIS RELATIONSHIP WITH CHAVEZ IN THE YEARS SINCE THE COUP \\nATTEMPT.  HE SEES IN CHAVEZ A KINDRED SPIRIT WHO UNDERTOOK A \\nQUIXOTIC STRGGLE AGAINST A CORRUPT GOVERNMENT SYSTEM.   FOLLOWNG \\nCHAVEZ\\'S RELEASE FROM PRISON IN 1994, RANGEL SED HIS NEWSPAPER \\nCOLUMNS AND HIS TV PROGRAM TO ROMOTE CHAVEZ\\'S CAMPAIGN FOR THE \\nPRESIDENCY.  HIS SUPPORT FOR CHAVEZ\\' HOWEVER, IS NOT BLIND OR \\nSYCPHANTIC.  HE HARSHLY CRITICIZED CHAVEZ FOR HIS FAMUS \"FRY \\nADECO HEADS IN OIL\" THREAT, AND USED HISNEWSPAPER COMMENTARY TO \\nLECTURE CHAVEZ ON THE IMORTANCE OF USING PUBLIC OFFICE TO PROMOTE \\nPOLITICAL CHANGE, NOT TO CONDUCT VENDETTAS AGAINST POLITICL \\nENEMIES.  RANGEL ONCE TOLD POLOFF, \"CHAVEZ IS OT THE IDEAL \\nPRESIDENTIAL CANDIDATE, BUT HE IS TE ONLY ONE WE HAVE.\" \\n \\n13.(C)  RANGEL\\'S SELECTIONAS FOREIGN MINISTER WAS A SURPRISE.  HIS \\nNAME HAD BEEN FLOATED FOR THIS POSITION, BUT HE HAD RULED OT ANY \\nPARTICIPATION IN THE GOVERNMENT, SAYING HE DID NOT WANT TO GIVE UP \\nHIS PRIVILEGED, INDEPENDENT POSITION AS A JOURNALIST.  IT WAS ALSO \\nRUMORED THAT HE HAD HEALTH PROBLEMS AND DID NOT FEEL UP TO THE \\nRIGORS OF WORK AS FOREIGN MINISTER.  NEVERTHELESS, HIS LOYALTY TO \\nCHAVEZ, AND HIS FORTHRIGHT NATURE WERE ENOUGH TO CONVINCE CHAVEZ TO \\nINSIST THAT HIS MENTOR ACCEPT THE FOREIGN MINISTER POSITION. \\n \\n14.(C)  RANGEL\\'S LACK OF PRACTICAL INTERNATIONAL EXPERIENCE IS NOT \\nSEEN BY VENEZUELAN COMMENTATORS AS A HINDERANCE.  HIS APPOINTMENT \\nWAS GREETED POSITIVELY BY FOREIGN MINISTER BURELLI AND OTHERS, ALL \\nOF WHOM REMARKED ON RANGEL\\'S LONG PUBLIC CAREER AND HIS REPUTATION \\nFOR INTEGRITY. \\n \\n \\nMAISTO \\n',\n",
       " 'Current Classification': ' CONFIDENTIAL (129738 documents)',\n",
       " 'Date': ' 1999 January 6, 21:39 (Wednesday)',\n",
       " 'Enclosure': ' -- Not Assigned -- (251287 documents)',\n",
       " 'Executive Order': ' -- Not Assigned -- (251287 documents)',\n",
       " 'From': ' Venezuela Caracas (17369 documents)',\n",
       " 'Handling Restrictions': '-- Not Assigned -- (251287 documents)',\n",
       " 'Locator': ' TEXT ONLINE (1885254 documents)',\n",
       " 'Markings': ' -- Not Assigned -- (251287 documents)',\n",
       " 'Metadata': 'R 062139Z JAN 99\\nFM AMEMBASSY CARACAS\\nTO SECSTATE WASHDC 2695\\nINFO AMEMBASSY BOGOTA \\nAMEMBASSY BRASILIA \\nAMEMBASSY GEORGETOWN \\nAMEMBASSY LA PAZ \\nAMEMBASSY LIMA \\nAMEMBASSY PORT OF SPAIN \\nAMEMBASSY QUITO \\nUSINT HAVANA \\nCIA WASHDC\\nDIA WASHDC\\nSECDEF WASHDC\\nUSCINCSO MIAMI FL\\nUSIA WASHDC 2035\\n',\n",
       " 'Office Action': ' -- N/A or Blank -- (1411046 documents)',\n",
       " 'Office Origin': ' -- N/A or Blank -- (2117535 documents)',\n",
       " 'Original Classification': ' CONFIDENTIAL (503750 documents)',\n",
       " 'Raw content': 'C O N F I D E N T I A L SECTION 01 OF 03 CARACAS 000025 \\n \\nSTATE FOR INR/B \\n \\nE.O. 12958:  DECL:  01/05/08 \\nTAGS: PGOV, PINR, PREL, VE \\nSUBJECT: BIOGRAPHIC REPORT: JOSE VICENTE RANGEL: HUGO CHAVEZ\\'S NEW \\nFOREIGN MINISTER \\n \\nCLASSIFIED BY THOMAS A. SHANNON, POLITICAL COUNSELOR.  REASON: 1.5 \\n(B) AND (D). \\n \\n--------------------------------------------- -------- \\nJOSE VICENTE RANGEL: VENEZUELA\\'S NEW FOREIGN MINISTER \\n--------------------------------------------- -------- \\n \\n1.(U)  PRESIDENT-ELECT HUGO CHAVEZ FRIAS NAMED JOSE VICENTE RANGEL \\nAS HIS FOREIGN MINISTER DESIGNATE.  THOUGH A LAWYER BY EDUCATION \\nAND A JOURNALIST BY PROFESSION, RANGEL HAS A LONG AND STORIED \\nCAREER IN VENEZUELAN POLITICS.  AS A LAW STUDENT, HE LED A STUDENT \\nREVOLT AGAINST THE PEREZ JIMENEZ DICTATORSHIP AND WAS EXILED FOR \\nHIS PARTICIPATION.  HE LATER RETURNED TO VENEZUELA AND SERVED FOR \\nNEARLY 30 YEARS IN THE CONGRESS.  DURING THIS PERIOD HE HELPED \\nFOUND THE LEFTIST NEWSPAPER, EL CLARIN, WON THE NATIONAL PRIZE FOR \\nJOURNALISM, AND RAN UNSUCCESSFULLY FOR PRESIDENT THREE TIMES (NEVER \\nGARNERING MORE THAN 5.2OF THE VOTE.)  EVEN NOW, THE SIXTY-NINE \\nYEAR OLD LEADS AN ACTIVE PROFESSIONAL LIFE, PUBLISHING COLUMNS IN \\nTHE NEWSPAPERS EL DIARIO AND EL UNIVERSAL, AND HOSTING A POPULAR \\nSUNDAY TELEVISION OPINION PROGRAM. \\n \\n------------------- \\nTHE FORMATIVE YEARS \\n------------------- \\n \\n2.(U)  BORN IN CARACAS ON JULY 10, 1929, RANGEL FIRST EXPERIENCED \\nPOLITICAL TURMOIL IN 1935, WHEN HIS FATHER, A STAUNCH SUPPORTER OF \\nDICTATOR JUAN VICENTE GOMEZ, WAS FORCED TO FLEE VENEZUELA FOR \\nCOLOMBIA UPON GOMEZ\\'S DEATH.  AT THE AGE OF SIXTEEN, WHILE \\nATTENDING SCHOOL IN BARQUISIMETO,  HE BECAME POLITICALLY ACTIVE \\nAFTER LISTENING TO JOVITO VILLALBA OF THE DEMOCRATIC REPUBLICAN \\nUNION (URD) SPEAK. INSPIRED, HE JOINED THE YOUTH SECTION OF THE \\nURD. \\n \\n3.(U)  AFTER HIGH SCHOOL, HE ENROLLED IN THE UNIVERSITY OF THE \\nANDES IN MERIDA TO PURSUE A DEGREE IN LAW, BUT LATER TRANSFERRED TO \\nTHE CENTRAL UNIVERSITY OF VENEZUELA IN CARACAS.  HE DID NOT, \\nHOWEVER, COMPLETE HIS STUDIES.  IN 1953, ALONG WITH CHEITO HERRERA \\nOROPEZA, LUIS HERRERA CAMPINS (FUTURE PRESIDENT AND SOCIAL \\nCHRISTIAN PARTY LEADER), AND EDUARDO GONZALEZ, RANGEL LED A STUDENT \\nPROTEST AGAINST THE CORRUPTION OF THE PEREZ JIMENEZ GOVERNMENT. \\nTHE PROTEST LED TO RANGEL\\'S OWN EXILE TO CHILE AND SPAIN.  HIS \\nEXILE HAD A SIGNIFICANT IMPACT ON HIS LIFE IN TWO AREAS. \\nPOLITICALLY, HIS TIME IN EXILE HARDENED HIS POSITION AGAINST \\nCORRUPTION AND HIS VIEWPOINT ON GOVERNMENT.  PERSONALLY, HE MET AND \\nMARRIED ANA AVALOS, A CHILEAN SCULPTRESS, TO WHOM HE IS STILL \\nMARRIED (WITH TWO CHILDREN) AND TO WHOM HE CLAIMS TO WRITE A NEW \\nPOEM EVERY DAY.  RANGEL RETURNED TO VENEZUELA IN 1958 FOLLOWING THE \\nFALL OF PEREZ JIMENEZ AND WAS APPOINTED TO THE MUNICIPAL COUNCIL OF \\nTHE FEDERAL DISTRICT, AND THEN WAS ELECTED TO THE CHAMBER OF \\nDEPUTIES. \\n \\n----------------- \\nPOLITICAL TURMOIL \\n----------------- \\n \\n4.(U)  RANGEL\\'S POLITICAL ACTIVITIES INCREASED IN THE SIXTIES.  IN \\n1962, AS A MEMBER OF THE URD, HE WAS NAMED PRESIDENT OF THE \\nCOMMISSION ON INTERNAL POLICY OF THE CHAMBER OF DEPUTIES, AND WAS \\nREELECTED TO THE CHAMBER IN 1963.  WHEN RAUL LEONI OF DEMOCRATIC \\nACTION (AD) BECAME PRESIDENT IN 1964, LEONI, JOVITO VILLALBA OF THE \\nURD, AND ARTURO USLAR PIETRI OF THE NATIONAL DEMOCRATIC FRONT (FND) \\nAGREED TO FORM A NATIONAL POLITICAL FRONT - CALLED \"WIDE BASE\" -TO \\nINSURE THE GOVERNABILITY OF VENEZUELA.  RANGEL VEHEMENTLY DISAGREED \\nWITH URD\\'S PARTICIPATION IN THE FRONT AND LEFT THE PARTY. \\n \\n5.(C)  RANGEL BEGAN HIS FORMAL ASSOCIATION WITH SOCIALISM AT THAT \\nTIME AND ALONG WITH SOME OTHER EX-URD LEADERS FORMED THE \\nNATIONALIST POPULAR VANGUARD (VPN).  DURING THIS PERIOD, RANGEL \\nDEVELOPED A WORKING RELATIONSHIP WITH GUERILLA ORGANIZATIONS.  HIS \\nOVERT POLITICAL ACTIVITIES WERE SEEN BY HIS ENEMIES AS A FRONT FOR \\nCLANDESTINE ORGANIZATIONS.  IN 1966, WISHING TO UNIFY THE DISPARATE \\nLEFTIST PARTIES, HE JOINED THE REVOLUTIONARY PARTY OF NATIONALISTIC \\nINTEGRATION (PRIN).  THE LOFTY UNIFICATION GOALS WERE NEVER \\nACHIEVED AND THE PARTY COLLAPSED AFTER THREE YEARS.   DURING THIS \\nPERIOD, RANGEL MET AND BECAME FRIENDS WITH LUIS MIQUILENA (NEWLY- \\nAPPOINTED MINISTER OF THE INTERIOR IN THE CHAVEZ CABINET.)  THE TWO \\nFOUNDED THE NEWSPAPER, EL CLARIN, WHICH WAS THE MOUTHPIECE OF THE \\nVENEZUELAN LEFT. \\n \\n------------------------------------ \\nPRESIDENTIAL ASPIRATIONS UNFULFILLED \\n------------------------------------ \\n \\n6.(U)  THROUGH IT ALL, RANGEL MAINTAINED HIS POSITION IN THE \\nCHAMBER OF DEPUTIES.  IN 1973 AS THE MOVEMENT TOWARD SOCIALISM \\nPARTY (MAS) CANDIDATE, AND WITH LUIS MIQUILENA AS HIS CAMPAIGN \\nMANAGER, HE RAN FOR PRESIDENT.  UNFORTUNATELY FOR RANGEL, HIS \\nCANDIDACY NEVER STRUCK A CHORD WITH THE PEOPLE, AND HE FINISHED A \\nDISTANT FOURTH (4.3) BEHIND WINNER CARLOS ANDRES PEREZ (48.7). \\nUNDAUNTED BY HIS SHOWING IN THE 1973 ELECTIONS, HE RAN AGAIN FOR \\nPRESIDENT UNDER THE MAS FLAG IN 1978 (THIRD PLACE WITH 5.2) AND \\nAGAIN IN 1983 (FOURTH PLACE WITH 3.3) AS THE NEW ALTERNATIVE PARTY \\n(NA) CANDIDATE. \\n \\n------------------ \\nTHE CAP CONNECTION \\n------------------ \\n \\n7.(U)  RANGEL AND CARLOS ANDRES PEREZ (CAP) HAVE A STRONG AND \\nIRONIC POLITICAL CONNECTION, TIED TO TWO SCANDALS.  IN 1980, CAP\\'S \\nPOLITICAL ENEMIES WANTED HIM REMOVED FROM THE SCENE.  HAVING JUST \\nCOMPLETED HIS TERM AS PRESIDENT, CAP WAS THEN SENATOR-FOR-LIFE. \\nDURING HIS PRESIDENCY, THE GOVERNMENT HAD BOUGHT A REFRIGERATED \\nFISHING BOAT -- THE SIERRA NEVADA -- FROM NORWAY AT AN INFLATED \\nPRICE.  BECAUSE THIS MISMANAGEMENT OCCURRED DURING CAP\\'S \\nPRESIDENCY, HIS ENEMIES WANTED HIM HELD LEGALLY RESPONSIBLE FOR THE \\nMALFEASANCE, AND SOUGHT TO IMPEACH AND REMOVE HIM FROM THE SENATE. \\nCONGRESSIONAL IMPEACHMENT ACTION FELL ONE VOTE SHORT.  THE ONE VOTE \\nWAS THAT OF JOSE VICENTE RANGEL, WHO ABSTAINED, AND SAVED CAP\\'S \\nPOLITICAL CAREER.  RANGEL EXPLAINED HIS ABSTENTION BY SAYING \"THE \\nSIERRA NEVADA DEAL WAS UNDOUBTEDLY IMMORAL\", BUT NOT AN IMPEACHABLE \\nOFFENSE. \\n \\n8.(C)  QUESTIONS WERE RAISED ABOUT RANGEL\\'S ABSTENTION AND THE \\nACQUITTAL OF CAP.  RANGEL\\'S POLITICAL ENEMIES CLAIMED THAT CAP \\nDIRECTLY PAID OFF RANGEL.  A MORE SORDID VERSION HAS ALSO \\nCIRCULATED.  ACCORDING TO THE STORY, RANGEL\\'S WIFE WAS INVOLVED \\nWITH A WELL-KNOWN GUERILLA IN ILLEGAL ACTIVITIES.  IN EXCHANGE FOR \\nHIS ABSTENTION, THE STORY GOES, CAP INTERVENED AND STOPPED HER \\nPROSECUTION. \\n \\n9.(U)  NINE YEARS LATER, RANGEL, WORKING AS AN INVESTIGATIVE \\nJOURNALIST HELPED UNCOVER THE SCANDAL THAT LED TO CAP\\'S IMPEACHMENT \\nAND IMPRISONMENT.  RANGEL DISCOVERED THAT DURING CAP\\'S SECOND TERM \\nAS PRESIDENT (1988 - 1993,) 250 MILLION BOLIVARES (APPROX. $16 \\nMILLION) WERE SECRETLY AND ILLEGALLY FUNNELED THROUGH THE \\nSECRETARIAT OF THE PRESIDENCY TO FINANCE THE FORMATION OF \\nNICARAGUAN PRESIDENT VIOLETA CHAMORRO\\'S SECURITY FORCE.  IN THE \\nCOURSE OF PASSING THE MONEY, THE BOLIVARES WERE EXCHANGED FOR \\nDOLLARS AT A VERY FAVORABLE RATE, SUPPOSEDLY ALLOWING CAP TO SIPHON \\nOFF A LARGE SUM OF MONEY.  ALTHOUGH, CAP MAINTAINED HIS INNOCENCE, \\nTHIS TIME NOBODY CAME TO HIS RESCUE AND HE WAS REMOVED FROM OFFICE. \\n \\n--------------- \\nSEMI-RETIREMENT \\n--------------- \\n \\n10.(U)  IN THE LATE EIGHTIES, RANGEL RECEIVED MORE ATTENTION \\nFIGHTING INSTITUTIONAL CORRUPTION.  DURING THE LUSINCHI PRESIDENCY, \\nRANGEL REPORTED THAT THE MILITARY PLANNED TO PURCHASE OBSOLETE OR \\nDAMAGED EQUIPMENT AT INFLATED PRICES.  HE WAS DETAINED AND \\nINTERROGATED TWICE BY MILITARY INTELLIGENCE (DIM), IN AN ATTEMPT TO \\nINTIMIDATE HIM.  THE ACTIONS BY DIM ONLY INSPIRED HIM TO PRINT MORE \\nSTORIES.  IN THE END, HOWEVER, NO PROOF WAS EVER UNCOVERED TO \\nSUPPORT RANGEL\\'S ALLEGATIONS, AND THE MILITARY BOUGHT THE \\nEQUIPMENT. \\n \\n11.(U)  RANGEL HAS SPENT HIS RECENT YEARS HARD AT WORK, WRITING A \\nWEEKLY COLUMN IN EL DIARIO AND EL UNIVERSAL AND HOSTING A POPULAR \\nTELEVISION OPINION PROGRAM.  IN AUGUST 1992, RANGEL\\'S MOST \\nINTERESTING BROADCAST WAS NEVER AIRED.  SEVEN MONTHS AFTER HUGO \\nCHAVEZ\\'S UNSUCCESSFUL COUP ATTEMPT, RANGEL VIDEOTAPED A PRISON \\nINTERVIEW WITH CHAVEZ.  A MILITARY JUDGE PROHIBITED THE BROADCAST \\nOF THE SHOW AT THE LAST MINUTE.  RANGEL COUNTERED THIS MOVE BY \\nINVITING JOURNALISTS INTO HIS HOME FOR A PRIVATE SCREENING OF THE \\nVIDEO, PLAYED AT THE SCHEDULED AIR TIME OF HIS SHOW. \\n \\n12.(C)  RANGEL ENJOYS MAINTAINING A HIGH PROFILE AND HAS BEEN \\nCALLED THE MOST SEEN AND HEARD JOURNALIST IN VENEZUELA.  LIKE HIS \\nGOOD FRIEND AND POLITICAL COUNTERPART LUIS MIQUILENA, RANGEL HAS \\nNURTURED HIS RELATIONSHIP WITH CHAVEZ IN THE YEARS SINCE THE COUP \\nATTEMPT.  HE SEES IN CHAVEZ A KINDRED SPIRIT WHO UNDERTOOK A \\nQUIXOTIC STRGGLE AGAINST A CORRUPT GOVERNMENT SYSTEM.   FOLLOWNG \\nCHAVEZ\\'S RELEASE FROM PRISON IN 1994, RANGEL SED HIS NEWSPAPER \\nCOLUMNS AND HIS TV PROGRAM TO ROMOTE CHAVEZ\\'S CAMPAIGN FOR THE \\nPRESIDENCY.  HIS SUPPORT FOR CHAVEZ\\' HOWEVER, IS NOT BLIND OR \\nSYCPHANTIC.  HE HARSHLY CRITICIZED CHAVEZ FOR HIS FAMUS \"FRY \\nADECO HEADS IN OIL\" THREAT, AND USED HISNEWSPAPER COMMENTARY TO \\nLECTURE CHAVEZ ON THE IMORTANCE OF USING PUBLIC OFFICE TO PROMOTE \\nPOLITICAL CHANGE, NOT TO CONDUCT VENDETTAS AGAINST POLITICL \\nENEMIES.  RANGEL ONCE TOLD POLOFF, \"CHAVEZ IS OT THE IDEAL \\nPRESIDENTIAL CANDIDATE, BUT HE IS TE ONLY ONE WE HAVE.\" \\n \\n13.(C)  RANGEL\\'S SELECTIONAS FOREIGN MINISTER WAS A SURPRISE.  HIS \\nNAME HAD BEEN FLOATED FOR THIS POSITION, BUT HE HAD RULED OT ANY \\nPARTICIPATION IN THE GOVERNMENT, SAYING HE DID NOT WANT TO GIVE UP \\nHIS PRIVILEGED, INDEPENDENT POSITION AS A JOURNALIST.  IT WAS ALSO \\nRUMORED THAT HE HAD HEALTH PROBLEMS AND DID NOT FEEL UP TO THE \\nRIGORS OF WORK AS FOREIGN MINISTER.  NEVERTHELESS, HIS LOYALTY TO \\nCHAVEZ, AND HIS FORTHRIGHT NATURE WERE ENOUGH TO CONVINCE CHAVEZ TO \\nINSIST THAT HIS MENTOR ACCEPT THE FOREIGN MINISTER POSITION. \\n \\n14.(C)  RANGEL\\'S LACK OF PRACTICAL INTERNATIONAL EXPERIENCE IS NOT \\nSEEN BY VENEZUELAN COMMENTATORS AS A HINDERANCE.  HIS APPOINTMENT \\nWAS GREETED POSITIVELY BY FOREIGN MINISTER BURELLI AND OTHERS, ALL \\nOF WHOM REMARKED ON RANGEL\\'S LONG PUBLIC CAREER AND HIS REPUTATION \\nFOR INTEGRITY. \\n \\n \\nMAISTO \\n',\n",
       " 'TAGS': ' PGOV - Political Affairs--Government; Internal Governmental Affairs | PINR - Political Affairs--Intelligence | PREL - Political Affairs--External Political Relations | VE - Venezuela',\n",
       " 'To': ' Bolivia La Paz  | Brazil Brasilia  | Central Intelligence Agency   | Colombia Bogotá  | Defense Intelligence Agency   | Ecuador Quito  | Guyana Georgetown  | Peru Lima  | Secretary of Defense   | Secretary of State   | Trinidad and Tobago Port of Spain  | USCINCSO MIAMI FL   | USINT HAVANA   | United States Information Agency ',\n",
       " 'Type': ' TE - Telegram (cable) (2008616 documents)'}"
      ]
     },
     "execution_count": 57,
     "metadata": {},
     "output_type": "execute_result"
    }
   ],
   "source": [
    "result[\"99CARACAS25_a.html\"]"
   ]
  },
  {
   "cell_type": "code",
   "execution_count": null,
   "metadata": {
    "collapsed": true
   },
   "outputs": [],
   "source": []
  }
 ],
 "metadata": {
  "kernelspec": {
   "display_name": "Python 3",
   "language": "python",
   "name": "python3"
  },
  "language_info": {
   "codemirror_mode": {
    "name": "ipython",
    "version": 3
   },
   "file_extension": ".py",
   "mimetype": "text/x-python",
   "name": "python",
   "nbconvert_exporter": "python",
   "pygments_lexer": "ipython3",
   "version": "3.6.3"
  }
 },
 "nbformat": 4,
 "nbformat_minor": 2
}
