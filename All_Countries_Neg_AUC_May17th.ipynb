{
 "cells": [
  {
   "cell_type": "markdown",
   "metadata": {},
   "source": [
    "# Load All Data"
   ]
  },
  {
   "cell_type": "code",
   "execution_count": 1,
   "metadata": {
    "collapsed": true
   },
   "outputs": [],
   "source": [
    "import numpy as np\n",
    "import pandas as pd\n",
    "Data_Path='/Users/jieyuwang/Desktop/Wikileak_Proj/Model_dataset/final_All_countries_ng'\n",
    "All_neg_data=pd.read_json(Data_Path)"
   ]
  },
  {
   "cell_type": "code",
   "execution_count": 2,
   "metadata": {},
   "outputs": [
    {
     "data": {
      "text/html": [
       "<div>\n",
       "<style>\n",
       "    .dataframe thead tr:only-child th {\n",
       "        text-align: right;\n",
       "    }\n",
       "\n",
       "    .dataframe thead th {\n",
       "        text-align: left;\n",
       "    }\n",
       "\n",
       "    .dataframe tbody tr th {\n",
       "        vertical-align: top;\n",
       "    }\n",
       "</style>\n",
       "<table border=\"1\" class=\"dataframe\">\n",
       "  <thead>\n",
       "    <tr style=\"text-align: right;\">\n",
       "      <th></th>\n",
       "      <th>Content</th>\n",
       "      <th>date</th>\n",
       "      <th>dummy_lable</th>\n",
       "      <th>lg_rt_features</th>\n",
       "      <th>num_lable</th>\n",
       "    </tr>\n",
       "  </thead>\n",
       "  <tbody>\n",
       "    <tr>\n",
       "      <th>0</th>\n",
       "      <td>\\nRef:  Hanoi 2175 \\n \\n1. (SBU) Summary:  Vi...</td>\n",
       "      <td>20031107</td>\n",
       "      <td>0</td>\n",
       "      <td>[-0.0003904  -0.00105284 -0.00381148 -0.004397...</td>\n",
       "      <td>-0.001046</td>\n",
       "    </tr>\n",
       "    <tr>\n",
       "      <th>1</th>\n",
       "      <td>\\n1.  Embassy grants country clearance to Tho...</td>\n",
       "      <td>20040729</td>\n",
       "      <td>1</td>\n",
       "      <td>[ 0.00065909 -0.00028235 -0.00324443  0.003840...</td>\n",
       "      <td>-0.000880</td>\n",
       "    </tr>\n",
       "    <tr>\n",
       "      <th>10</th>\n",
       "      <td>B. STATE 21700 \\n     C. CANBERRA 322 \\n ...</td>\n",
       "      <td>20050222</td>\n",
       "      <td>0</td>\n",
       "      <td>[-0.00047151  0.00201716 -0.00077214  0.001911...</td>\n",
       "      <td>-0.003435</td>\n",
       "    </tr>\n",
       "    <tr>\n",
       "      <th>100</th>\n",
       "      <td>\\n1.  (SBU) Embassy welcomes and grants count...</td>\n",
       "      <td>20061025</td>\n",
       "      <td>0</td>\n",
       "      <td>[  2.43085000e-03   2.90790000e-04  -6.7881300...</td>\n",
       "      <td>-0.001088</td>\n",
       "    </tr>\n",
       "    <tr>\n",
       "      <th>1000</th>\n",
       "      <td>\\n1.  On March 27, 2006, Embassy delivered to...</td>\n",
       "      <td>20060329</td>\n",
       "      <td>1</td>\n",
       "      <td>[ 0.00529926 -0.00564014 -0.00332254 -0.003348...</td>\n",
       "      <td>-0.001134</td>\n",
       "    </tr>\n",
       "    <tr>\n",
       "      <th>10000</th>\n",
       "      <td>\\n1.  (SBU) The Indian parliament will hold i...</td>\n",
       "      <td>20080827</td>\n",
       "      <td>0</td>\n",
       "      <td>['-0.001444897' '0.000413319' '0' '0.000103268...</td>\n",
       "      <td>-0.001193</td>\n",
       "    </tr>\n",
       "    <tr>\n",
       "      <th>10001</th>\n",
       "      <td>B. B) KOLKATA 238 \\n     C. C) KOLKATA 00...</td>\n",
       "      <td>20080829</td>\n",
       "      <td>1</td>\n",
       "      <td>['0' '0.000103268' '0.002881585' '0.002148711'...</td>\n",
       "      <td>-0.003998</td>\n",
       "    </tr>\n",
       "    <tr>\n",
       "      <th>10002</th>\n",
       "      <td>\\n1.  (U)  Below is a compilation of politica...</td>\n",
       "      <td>20080829</td>\n",
       "      <td>1</td>\n",
       "      <td>['0' '0.000103268' '0.002881585' '0.002148711'...</td>\n",
       "      <td>-0.003998</td>\n",
       "    </tr>\n",
       "    <tr>\n",
       "      <th>10003</th>\n",
       "      <td>Reasons 1.4 (B and D) \\n \\n1.(C) SUMMARY:  In ...</td>\n",
       "      <td>20080829</td>\n",
       "      <td>1</td>\n",
       "      <td>['0' '0.000103268' '0.002881585' '0.002148711'...</td>\n",
       "      <td>-0.003998</td>\n",
       "    </tr>\n",
       "    <tr>\n",
       "      <th>10004</th>\n",
       "      <td>\\n1.  (SBU) Summary:  After years of speculat...</td>\n",
       "      <td>20080829</td>\n",
       "      <td>1</td>\n",
       "      <td>['0' '0.000103268' '0.002881585' '0.002148711'...</td>\n",
       "      <td>-0.003998</td>\n",
       "    </tr>\n",
       "  </tbody>\n",
       "</table>\n",
       "</div>"
      ],
      "text/plain": [
       "                                                 Content      date  \\\n",
       "0       \\nRef:  Hanoi 2175 \\n \\n1. (SBU) Summary:  Vi...  20031107   \n",
       "1       \\n1.  Embassy grants country clearance to Tho...  20040729   \n",
       "10          B. STATE 21700 \\n     C. CANBERRA 322 \\n ...  20050222   \n",
       "100     \\n1.  (SBU) Embassy welcomes and grants count...  20061025   \n",
       "1000    \\n1.  On March 27, 2006, Embassy delivered to...  20060329   \n",
       "10000   \\n1.  (SBU) The Indian parliament will hold i...  20080827   \n",
       "10001       B. B) KOLKATA 238 \\n     C. C) KOLKATA 00...  20080829   \n",
       "10002   \\n1.  (U)  Below is a compilation of politica...  20080829   \n",
       "10003  Reasons 1.4 (B and D) \\n \\n1.(C) SUMMARY:  In ...  20080829   \n",
       "10004   \\n1.  (SBU) Summary:  After years of speculat...  20080829   \n",
       "\n",
       "       dummy_lable                                     lg_rt_features  \\\n",
       "0                0  [-0.0003904  -0.00105284 -0.00381148 -0.004397...   \n",
       "1                1  [ 0.00065909 -0.00028235 -0.00324443  0.003840...   \n",
       "10               0  [-0.00047151  0.00201716 -0.00077214  0.001911...   \n",
       "100              0  [  2.43085000e-03   2.90790000e-04  -6.7881300...   \n",
       "1000             1  [ 0.00529926 -0.00564014 -0.00332254 -0.003348...   \n",
       "10000            0  ['-0.001444897' '0.000413319' '0' '0.000103268...   \n",
       "10001            1  ['0' '0.000103268' '0.002881585' '0.002148711'...   \n",
       "10002            1  ['0' '0.000103268' '0.002881585' '0.002148711'...   \n",
       "10003            1  ['0' '0.000103268' '0.002881585' '0.002148711'...   \n",
       "10004            1  ['0' '0.000103268' '0.002881585' '0.002148711'...   \n",
       "\n",
       "       num_lable  \n",
       "0      -0.001046  \n",
       "1      -0.000880  \n",
       "10     -0.003435  \n",
       "100    -0.001088  \n",
       "1000   -0.001134  \n",
       "10000  -0.001193  \n",
       "10001  -0.003998  \n",
       "10002  -0.003998  \n",
       "10003  -0.003998  \n",
       "10004  -0.003998  "
      ]
     },
     "execution_count": 2,
     "metadata": {},
     "output_type": "execute_result"
    }
   ],
   "source": [
    "All_neg_data.head(10)"
   ]
  },
  {
   "cell_type": "markdown",
   "metadata": {},
   "source": [
    "# Fit and transform tf-idf Vectorizer to all content "
   ]
  },
  {
   "cell_type": "code",
   "execution_count": null,
   "metadata": {
    "collapsed": true
   },
   "outputs": [],
   "source": [
    "from sklearn.feature_extraction.text import TfidfVectorizer\n",
    "tfidf_vectorizer = TfidfVectorizer(binary = True, ngram_range = (1, 2) )\n",
    "X_train_tfid=tfidf_vectorizer.fit_transform(All_neg_data[\"Content\"])"
   ]
  },
  {
   "cell_type": "markdown",
   "metadata": {},
   "source": [
    "# Build Random Forest Model and Display feature importance"
   ]
  },
  {
   "cell_type": "code",
   "execution_count": null,
   "metadata": {
    "collapsed": true
   },
   "outputs": [],
   "source": [
    "from sklearn.model_selection import train_test_split\n",
    "X_train, X_test, y_train, y_test = train_test_split(X_train_tfid, All_neg_data[\"dummy_lable\"], test_size=0.15, random_state=44)"
   ]
  },
  {
   "cell_type": "code",
   "execution_count": 8,
   "metadata": {},
   "outputs": [
    {
     "name": "stdout",
     "output_type": "stream",
     "text": [
      "building tree 1 of 15\n",
      "[Parallel(n_jobs=1)]: Done   1 out of   1 | elapsed:  3.7min remaining:    0.0s\n",
      "building tree 2 of 15\n",
      "[Parallel(n_jobs=1)]: Done   2 out of   2 | elapsed:  7.2min remaining:    0.0s\n",
      "building tree 3 of 15\n",
      "[Parallel(n_jobs=1)]: Done   3 out of   3 | elapsed: 10.5min remaining:    0.0s\n",
      "building tree 4 of 15\n",
      "[Parallel(n_jobs=1)]: Done   4 out of   4 | elapsed: 13.9min remaining:    0.0s\n",
      "building tree 5 of 15\n",
      "[Parallel(n_jobs=1)]: Done   5 out of   5 | elapsed: 17.5min remaining:    0.0s\n",
      "building tree 6 of 15\n",
      "[Parallel(n_jobs=1)]: Done   6 out of   6 | elapsed: 21.3min remaining:    0.0s\n",
      "building tree 7 of 15\n",
      "[Parallel(n_jobs=1)]: Done   7 out of   7 | elapsed: 24.8min remaining:    0.0s\n",
      "building tree 8 of 15\n",
      "[Parallel(n_jobs=1)]: Done   8 out of   8 | elapsed: 28.8min remaining:    0.0s\n",
      "building tree 9 of 15\n",
      "[Parallel(n_jobs=1)]: Done   9 out of   9 | elapsed: 32.2min remaining:    0.0s\n",
      "building tree 10 of 15\n",
      "[Parallel(n_jobs=1)]: Done  10 out of  10 | elapsed: 35.6min remaining:    0.0s\n",
      "building tree 11 of 15\n",
      "[Parallel(n_jobs=1)]: Done  11 out of  11 | elapsed: 39.6min remaining:    0.0s\n",
      "building tree 12 of 15\n",
      "[Parallel(n_jobs=1)]: Done  12 out of  12 | elapsed: 43.0min remaining:    0.0s\n",
      "building tree 13 of 15\n",
      "[Parallel(n_jobs=1)]: Done  13 out of  13 | elapsed: 46.5min remaining:    0.0s\n",
      "building tree 14 of 15\n",
      "[Parallel(n_jobs=1)]: Done  14 out of  14 | elapsed: 49.8min remaining:    0.0s\n",
      "building tree 15 of 15\n",
      "[Parallel(n_jobs=1)]: Done  15 out of  15 | elapsed: 53.6min remaining:    0.0s\n",
      "[Parallel(n_jobs=1)]: Done  15 out of  15 | elapsed: 53.6min finished\n"
     ]
    },
    {
     "data": {
      "text/plain": [
       "RandomForestClassifier(bootstrap=True, class_weight=None, criterion='gini',\n",
       "            max_depth=None, max_features='auto', max_leaf_nodes=None,\n",
       "            min_impurity_decrease=0.0, min_impurity_split=None,\n",
       "            min_samples_leaf=1, min_samples_split=2,\n",
       "            min_weight_fraction_leaf=0.0, n_estimators=15, n_jobs=1,\n",
       "            oob_score=False, random_state=None, verbose=100,\n",
       "            warm_start=False)"
      ]
     },
     "execution_count": 8,
     "metadata": {},
     "output_type": "execute_result"
    }
   ],
   "source": [
    "from sklearn.ensemble import RandomForestClassifier\n",
    "clf=RandomForestClassifier(n_estimators=60, verbose=100)\n",
    "clf.fit(X_train, y_train)"
   ]
  },
  {
   "cell_type": "code",
   "execution_count": null,
   "metadata": {
    "collapsed": true
   },
   "outputs": [],
   "source": [
    "import pickle\n",
    "filename = 'all_neg_random_forest_model.sav'\n",
    "pickle.dump(model, open(filename, 'wb'))"
   ]
  },
  {
   "cell_type": "code",
   "execution_count": 28,
   "metadata": {
    "collapsed": true
   },
   "outputs": [],
   "source": [
    "from sklearn.metrics import roc_curve, auc\n",
    "y_predict=clf.predict_proba(X_test)\n",
    "fpr, tpr, _= roc_curve(y_test.ravel(), y_predict[:, 1].ravel())\n",
    "roc_auc = auc(fpr, tpr)"
   ]
  },
  {
   "cell_type": "code",
   "execution_count": 29,
   "metadata": {},
   "outputs": [
    {
     "data": {
      "image/png": "[encoded data removed]",
      "text/plain": [
       "<matplotlib.figure.Figure at 0x2ac868470>"
      ]
     },
     "metadata": {},
     "output_type": "display_data"
    }
   ],
   "source": [
    "import matplotlib.pyplot as plt\n",
    "plt.figure(figsize=(10, 8))\n",
    "lw = 2\n",
    "plt.plot(fpr, tpr, color='darkorange',\n",
    "         lw=lw, label='ROC curve (area = %0.2f)' % roc_auc)\n",
    "plt.plot([0, 1], [0, 1], color='navy', lw=lw, linestyle='--')\n",
    "plt.xlim([0.0, 1.0])\n",
    "plt.ylim([0.0, 1.05])\n",
    "plt.xlabel('False Positive Rate')\n",
    "plt.ylabel('True Positive Rate')\n",
    "plt.title('Receiver operating characteristic graph')\n",
    "plt.legend(loc=\"lower right\")\n",
    "plt.show()"
   ]
  }
 ],
 "metadata": {
  "kernelspec": {
   "display_name": "Python 3",
   "language": "python",
   "name": "python3"
  },
  "language_info": {
   "codemirror_mode": {
    "name": "ipython",
    "version": 3
   },
   "file_extension": ".py",
   "mimetype": "text/x-python",
   "name": "python",
   "nbconvert_exporter": "python",
   "pygments_lexer": "ipython3",
   "version": "3.6.3"
  }
 },
 "nbformat": 4,
 "nbformat_minor": 2
}
