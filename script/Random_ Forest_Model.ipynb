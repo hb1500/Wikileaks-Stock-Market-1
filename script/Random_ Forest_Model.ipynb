{
 "cells": [
  {
   "cell_type": "markdown",
   "metadata": {},
   "source": [
    "## Load Data"
   ]
  },
  {
   "cell_type": "code",
   "execution_count": 1,
   "metadata": {
    "collapsed": true
   },
   "outputs": [],
   "source": [
    "import pandas as pd\n",
    "dataset = pd.read_json(open('./Model_dataset/trainset.json').read())\n",
    "dataset = dataset.reset_index(drop=True)"
   ]
  },
  {
   "cell_type": "code",
   "execution_count": 2,
   "metadata": {},
   "outputs": [
    {
     "data": {
      "text/html": [
       "<div>\n",
       "<style>\n",
       "    .dataframe thead tr:only-child th {\n",
       "        text-align: right;\n",
       "    }\n",
       "\n",
       "    .dataframe thead th {\n",
       "        text-align: left;\n",
       "    }\n",
       "\n",
       "    .dataframe tbody tr th {\n",
       "        vertical-align: top;\n",
       "    }\n",
       "</style>\n",
       "<table border=\"1\" class=\"dataframe\">\n",
       "  <thead>\n",
       "    <tr style=\"text-align: right;\">\n",
       "      <th></th>\n",
       "      <th>concanate_vec</th>\n",
       "      <th>date</th>\n",
       "      <th>label</th>\n",
       "    </tr>\n",
       "  </thead>\n",
       "  <tbody>\n",
       "    <tr>\n",
       "      <th>0</th>\n",
       "      <td>None</td>\n",
       "      <td>19790301</td>\n",
       "      <td>NaN</td>\n",
       "    </tr>\n",
       "    <tr>\n",
       "      <th>1</th>\n",
       "      <td>[-1.0600054013, -1.0680297129, -1.058958752000...</td>\n",
       "      <td>20071219</td>\n",
       "      <td>1.0</td>\n",
       "    </tr>\n",
       "    <tr>\n",
       "      <th>2</th>\n",
       "      <td>[-1.0373279991, -1.0586098689, -1.0279081551, ...</td>\n",
       "      <td>20080206</td>\n",
       "      <td>0.0</td>\n",
       "    </tr>\n",
       "    <tr>\n",
       "      <th>3</th>\n",
       "      <td>[-0.1567470266, -0.1734934159, -0.0772016772, ...</td>\n",
       "      <td>20090127</td>\n",
       "      <td>0.0</td>\n",
       "    </tr>\n",
       "    <tr>\n",
       "      <th>4</th>\n",
       "      <td>[1.4359785707000001, 1.4407812482, 1.491689630...</td>\n",
       "      <td>20040811</td>\n",
       "      <td>0.0</td>\n",
       "    </tr>\n",
       "    <tr>\n",
       "      <th>5</th>\n",
       "      <td>[0.1002469233, 0.0878306648, 0.0730863578, 0.1...</td>\n",
       "      <td>20060428</td>\n",
       "      <td>0.0</td>\n",
       "    </tr>\n",
       "    <tr>\n",
       "      <th>6</th>\n",
       "      <td>[0.0855026163, 0.09791887490000001, 0.15612008...</td>\n",
       "      <td>20060512</td>\n",
       "      <td>0.0</td>\n",
       "    </tr>\n",
       "    <tr>\n",
       "      <th>7</th>\n",
       "      <td>[-0.0200355813, -0.091429068, -0.0728046802, 0...</td>\n",
       "      <td>20060530</td>\n",
       "      <td>0.0</td>\n",
       "    </tr>\n",
       "    <tr>\n",
       "      <th>8</th>\n",
       "      <td>[0.0730863578, 0.1460318767, 0.0738623739, 0.1...</td>\n",
       "      <td>20060602</td>\n",
       "      <td>0.0</td>\n",
       "    </tr>\n",
       "    <tr>\n",
       "      <th>9</th>\n",
       "      <td>[0.17164041, 0.1266314728, 0.0567900184, -0.00...</td>\n",
       "      <td>20060725</td>\n",
       "      <td>0.0</td>\n",
       "    </tr>\n",
       "  </tbody>\n",
       "</table>\n",
       "</div>"
      ],
      "text/plain": [
       "                                       concanate_vec      date  label\n",
       "0                                               None  19790301    NaN\n",
       "1  [-1.0600054013, -1.0680297129, -1.058958752000...  20071219    1.0\n",
       "2  [-1.0373279991, -1.0586098689, -1.0279081551, ...  20080206    0.0\n",
       "3  [-0.1567470266, -0.1734934159, -0.0772016772, ...  20090127    0.0\n",
       "4  [1.4359785707000001, 1.4407812482, 1.491689630...  20040811    0.0\n",
       "5  [0.1002469233, 0.0878306648, 0.0730863578, 0.1...  20060428    0.0\n",
       "6  [0.0855026163, 0.09791887490000001, 0.15612008...  20060512    0.0\n",
       "7  [-0.0200355813, -0.091429068, -0.0728046802, 0...  20060530    0.0\n",
       "8  [0.0730863578, 0.1460318767, 0.0738623739, 0.1...  20060602    0.0\n",
       "9  [0.17164041, 0.1266314728, 0.0567900184, -0.00...  20060725    0.0"
      ]
     },
     "execution_count": 2,
     "metadata": {},
     "output_type": "execute_result"
    }
   ],
   "source": [
    "dataset.head(10)"
   ]
  },
  {
   "cell_type": "markdown",
   "metadata": {},
   "source": [
    "## Delete instances where concanate_vec is not a list"
   ]
  },
  {
   "cell_type": "code",
   "execution_count": 3,
   "metadata": {
    "collapsed": true
   },
   "outputs": [],
   "source": [
    "num_instances=dataset.shape[0]\n",
    "result=[]\n",
    "drop_list=[]\n",
    "for index in range(num_instances):\n",
    "    if (type(dataset[\"concanate_vec\"][index])!=list):\n",
    "        drop_list.append(index )\n",
    "dataset=dataset.drop(drop_list)\n",
    "dataset = dataset.reset_index(drop=True)"
   ]
  },
  {
   "cell_type": "code",
   "execution_count": 4,
   "metadata": {
    "collapsed": true
   },
   "outputs": [],
   "source": [
    "result=[]\n",
    "counter=0\n",
    "num_instances=dataset.shape[0]\n",
    "for index in range(num_instances):\n",
    "    result.append(dataset[\"concanate_vec\"][index])"
   ]
  },
  {
   "cell_type": "code",
   "execution_count": 5,
   "metadata": {
    "collapsed": true
   },
   "outputs": [],
   "source": [
    "flat_list = [item for sublist in result for item in sublist]"
   ]
  },
  {
   "cell_type": "code",
   "execution_count": 6,
   "metadata": {
    "collapsed": true
   },
   "outputs": [],
   "source": [
    "import numpy as np\n",
    "array_result=np.array(flat_list).reshape(18898, 330)"
   ]
  },
  {
   "cell_type": "code",
   "execution_count": 7,
   "metadata": {
    "collapsed": true
   },
   "outputs": [],
   "source": [
    "X=pd.DataFrame(array_result)"
   ]
  },
  {
   "cell_type": "code",
   "execution_count": 8,
   "metadata": {
    "collapsed": true
   },
   "outputs": [],
   "source": [
    "y=dataset[\"label\"]"
   ]
  },
  {
   "cell_type": "code",
   "execution_count": 9,
   "metadata": {
    "collapsed": true
   },
   "outputs": [],
   "source": [
    "df_concated=pd.concat([X, y], axis=1, ignore_index=True)"
   ]
  },
  {
   "cell_type": "code",
   "execution_count": 10,
   "metadata": {
    "collapsed": true
   },
   "outputs": [],
   "source": [
    "from sklearn.svm import SVC\n",
    "clf=SVC()"
   ]
  },
  {
   "cell_type": "code",
   "execution_count": 11,
   "metadata": {},
   "outputs": [
    {
     "data": {
      "text/html": [
       "<div>\n",
       "<style>\n",
       "    .dataframe thead tr:only-child th {\n",
       "        text-align: right;\n",
       "    }\n",
       "\n",
       "    .dataframe thead th {\n",
       "        text-align: left;\n",
       "    }\n",
       "\n",
       "    .dataframe tbody tr th {\n",
       "        vertical-align: top;\n",
       "    }\n",
       "</style>\n",
       "<table border=\"1\" class=\"dataframe\">\n",
       "  <thead>\n",
       "    <tr style=\"text-align: right;\">\n",
       "      <th></th>\n",
       "      <th>0</th>\n",
       "      <th>1</th>\n",
       "      <th>2</th>\n",
       "      <th>3</th>\n",
       "      <th>4</th>\n",
       "      <th>5</th>\n",
       "      <th>6</th>\n",
       "      <th>7</th>\n",
       "      <th>8</th>\n",
       "      <th>9</th>\n",
       "      <th>...</th>\n",
       "      <th>320</th>\n",
       "      <th>321</th>\n",
       "      <th>322</th>\n",
       "      <th>323</th>\n",
       "      <th>324</th>\n",
       "      <th>325</th>\n",
       "      <th>326</th>\n",
       "      <th>327</th>\n",
       "      <th>328</th>\n",
       "      <th>329</th>\n",
       "    </tr>\n",
       "  </thead>\n",
       "  <tbody>\n",
       "    <tr>\n",
       "      <th>0</th>\n",
       "      <td>-1.06001</td>\n",
       "      <td>-1.06803</td>\n",
       "      <td>-1.05896</td>\n",
       "      <td>-1.01291</td>\n",
       "      <td>-1.00523</td>\n",
       "      <td>-1.01535</td>\n",
       "      <td>-1.04954</td>\n",
       "      <td>-1.05966</td>\n",
       "      <td>-1.0764</td>\n",
       "      <td>-1.07187</td>\n",
       "      <td>...</td>\n",
       "      <td>0.0117761</td>\n",
       "      <td>0.0231854</td>\n",
       "      <td>-0.0955195</td>\n",
       "      <td>0.00328217</td>\n",
       "      <td>0.0742292</td>\n",
       "      <td>-0.0353203</td>\n",
       "      <td>0.0500222</td>\n",
       "      <td>0.081045</td>\n",
       "      <td>0.0923203</td>\n",
       "      <td>0.0282475</td>\n",
       "    </tr>\n",
       "    <tr>\n",
       "      <th>1</th>\n",
       "      <td>-1.03733</td>\n",
       "      <td>-1.05861</td>\n",
       "      <td>-1.02791</td>\n",
       "      <td>-0.993718</td>\n",
       "      <td>-0.979762</td>\n",
       "      <td>-1.04186</td>\n",
       "      <td>-1.05407</td>\n",
       "      <td>-1.0614</td>\n",
       "      <td>-1.08896</td>\n",
       "      <td>-1.08792</td>\n",
       "      <td>...</td>\n",
       "      <td>0.00715307</td>\n",
       "      <td>0.0783223</td>\n",
       "      <td>-0.140327</td>\n",
       "      <td>0.020263</td>\n",
       "      <td>0.121062</td>\n",
       "      <td>0.0156239</td>\n",
       "      <td>0.0392349</td>\n",
       "      <td>0.019112</td>\n",
       "      <td>-0.0530842</td>\n",
       "      <td>-0.0786969</td>\n",
       "    </tr>\n",
       "    <tr>\n",
       "      <th>2</th>\n",
       "      <td>-0.156747</td>\n",
       "      <td>-0.173493</td>\n",
       "      <td>-0.0772017</td>\n",
       "      <td>-0.0716195</td>\n",
       "      <td>0.109102</td>\n",
       "      <td>0.215511</td>\n",
       "      <td>0.243073</td>\n",
       "      <td>0.309012</td>\n",
       "      <td>0.227373</td>\n",
       "      <td>0.295754</td>\n",
       "      <td>...</td>\n",
       "      <td>0.0071759</td>\n",
       "      <td>0.0253402</td>\n",
       "      <td>-0.11671</td>\n",
       "      <td>-0.107395</td>\n",
       "      <td>-0.0173618</td>\n",
       "      <td>-0.0779916</td>\n",
       "      <td>0.0577917</td>\n",
       "      <td>-0.0649507</td>\n",
       "      <td>0.111301</td>\n",
       "      <td>-0.0501828</td>\n",
       "    </tr>\n",
       "    <tr>\n",
       "      <th>3</th>\n",
       "      <td>1.43598</td>\n",
       "      <td>1.44078</td>\n",
       "      <td>1.49169</td>\n",
       "      <td>1.4744</td>\n",
       "      <td>1.45711</td>\n",
       "      <td>1.41677</td>\n",
       "      <td>1.4062</td>\n",
       "      <td>1.45039</td>\n",
       "      <td>1.45711</td>\n",
       "      <td>1.46479</td>\n",
       "      <td>...</td>\n",
       "      <td>-0.0319854</td>\n",
       "      <td>0.0810131</td>\n",
       "      <td>-0.100869</td>\n",
       "      <td>-0.0154728</td>\n",
       "      <td>0.0432115</td>\n",
       "      <td>-0.00685893</td>\n",
       "      <td>0.0404974</td>\n",
       "      <td>0.0571148</td>\n",
       "      <td>0.0160453</td>\n",
       "      <td>-0.0166533</td>\n",
       "    </tr>\n",
       "    <tr>\n",
       "      <th>4</th>\n",
       "      <td>0.100247</td>\n",
       "      <td>0.0878307</td>\n",
       "      <td>0.0730864</td>\n",
       "      <td>0.109559</td>\n",
       "      <td>0.105679</td>\n",
       "      <td>0.0963668</td>\n",
       "      <td>0.0226453</td>\n",
       "      <td>0.0304055</td>\n",
       "      <td>0.0529099</td>\n",
       "      <td>0.0878307</td>\n",
       "      <td>...</td>\n",
       "      <td>0.000621857</td>\n",
       "      <td>0.0309769</td>\n",
       "      <td>-0.0957508</td>\n",
       "      <td>-0.0818827</td>\n",
       "      <td>0.0483043</td>\n",
       "      <td>0.00639102</td>\n",
       "      <td>0.065712</td>\n",
       "      <td>0.00459763</td>\n",
       "      <td>0.0975757</td>\n",
       "      <td>-0.0178957</td>\n",
       "    </tr>\n",
       "    <tr>\n",
       "      <th>5</th>\n",
       "      <td>0.0855026</td>\n",
       "      <td>0.0979189</td>\n",
       "      <td>0.15612</td>\n",
       "      <td>0.108783</td>\n",
       "      <td>0.101023</td>\n",
       "      <td>0.0730864</td>\n",
       "      <td>0.0412697</td>\n",
       "      <td>0.00402092</td>\n",
       "      <td>0.00945303</td>\n",
       "      <td>-0.00761932</td>\n",
       "      <td>...</td>\n",
       "      <td>-0.0398286</td>\n",
       "      <td>0.0799209</td>\n",
       "      <td>-0.0916625</td>\n",
       "      <td>-0.0289409</td>\n",
       "      <td>0.0768208</td>\n",
       "      <td>-0.02055</td>\n",
       "      <td>0.060055</td>\n",
       "      <td>0.0261428</td>\n",
       "      <td>-0.00774097</td>\n",
       "      <td>-0.0994857</td>\n",
       "    </tr>\n",
       "    <tr>\n",
       "      <th>6</th>\n",
       "      <td>-0.0200356</td>\n",
       "      <td>-0.0914291</td>\n",
       "      <td>-0.0728047</td>\n",
       "      <td>0.0730864</td>\n",
       "      <td>0.146032</td>\n",
       "      <td>0.0738624</td>\n",
       "      <td>0.150688</td>\n",
       "      <td>0.205785</td>\n",
       "      <td>0.176297</td>\n",
       "      <td>0.252346</td>\n",
       "      <td>...</td>\n",
       "      <td>-0.0588397</td>\n",
       "      <td>0.07023</td>\n",
       "      <td>-0.108563</td>\n",
       "      <td>-0.0435956</td>\n",
       "      <td>0.126288</td>\n",
       "      <td>-0.0381047</td>\n",
       "      <td>0.0183672</td>\n",
       "      <td>0.0291315</td>\n",
       "      <td>0.0204608</td>\n",
       "      <td>-0.0315321</td>\n",
       "    </tr>\n",
       "    <tr>\n",
       "      <th>7</th>\n",
       "      <td>0.0730864</td>\n",
       "      <td>0.146032</td>\n",
       "      <td>0.0738624</td>\n",
       "      <td>0.150688</td>\n",
       "      <td>0.205785</td>\n",
       "      <td>0.176297</td>\n",
       "      <td>0.252346</td>\n",
       "      <td>0.173968</td>\n",
       "      <td>0.268642</td>\n",
       "      <td>0.177849</td>\n",
       "      <td>...</td>\n",
       "      <td>-0.0465849</td>\n",
       "      <td>0.0462824</td>\n",
       "      <td>-0.111148</td>\n",
       "      <td>-0.0424118</td>\n",
       "      <td>0.111457</td>\n",
       "      <td>0.0306361</td>\n",
       "      <td>0.0971678</td>\n",
       "      <td>0.0864718</td>\n",
       "      <td>0.0846592</td>\n",
       "      <td>-0.078386</td>\n",
       "    </tr>\n",
       "    <tr>\n",
       "      <th>8</th>\n",
       "      <td>0.17164</td>\n",
       "      <td>0.126631</td>\n",
       "      <td>0.05679</td>\n",
       "      <td>-0.00218721</td>\n",
       "      <td>0.0273014</td>\n",
       "      <td>0.053686</td>\n",
       "      <td>0.0668782</td>\n",
       "      <td>0.054462</td>\n",
       "      <td>0.0187652</td>\n",
       "      <td>0.00246889</td>\n",
       "      <td>...</td>\n",
       "      <td>0.00700727</td>\n",
       "      <td>0.0761371</td>\n",
       "      <td>-0.00386824</td>\n",
       "      <td>0.0107615</td>\n",
       "      <td>0.05686</td>\n",
       "      <td>0.069796</td>\n",
       "      <td>0.044813</td>\n",
       "      <td>-0.0189239</td>\n",
       "      <td>-0.0181145</td>\n",
       "      <td>0.0260923</td>\n",
       "    </tr>\n",
       "    <tr>\n",
       "      <th>9</th>\n",
       "      <td>0.126631</td>\n",
       "      <td>0.05679</td>\n",
       "      <td>-0.00218721</td>\n",
       "      <td>0.0273014</td>\n",
       "      <td>0.053686</td>\n",
       "      <td>0.0668782</td>\n",
       "      <td>0.054462</td>\n",
       "      <td>0.0187652</td>\n",
       "      <td>0.00246889</td>\n",
       "      <td>-0.039436</td>\n",
       "      <td>...</td>\n",
       "      <td>0.0340708</td>\n",
       "      <td>0.0671058</td>\n",
       "      <td>-0.0217082</td>\n",
       "      <td>-0.0695547</td>\n",
       "      <td>0.0261832</td>\n",
       "      <td>0.00381007</td>\n",
       "      <td>0.0554926</td>\n",
       "      <td>-0.00324145</td>\n",
       "      <td>-0.0109841</td>\n",
       "      <td>0.0629922</td>\n",
       "    </tr>\n",
       "  </tbody>\n",
       "</table>\n",
       "<p>10 rows × 330 columns</p>\n",
       "</div>"
      ],
      "text/plain": [
       "         0          1           2           3          4          5    \\\n",
       "0   -1.06001   -1.06803    -1.05896    -1.01291   -1.00523   -1.01535   \n",
       "1   -1.03733   -1.05861    -1.02791   -0.993718  -0.979762   -1.04186   \n",
       "2  -0.156747  -0.173493  -0.0772017  -0.0716195   0.109102   0.215511   \n",
       "3    1.43598    1.44078     1.49169      1.4744    1.45711    1.41677   \n",
       "4   0.100247  0.0878307   0.0730864    0.109559   0.105679  0.0963668   \n",
       "5  0.0855026  0.0979189     0.15612    0.108783   0.101023  0.0730864   \n",
       "6 -0.0200356 -0.0914291  -0.0728047   0.0730864   0.146032  0.0738624   \n",
       "7  0.0730864   0.146032   0.0738624    0.150688   0.205785   0.176297   \n",
       "8    0.17164   0.126631     0.05679 -0.00218721  0.0273014   0.053686   \n",
       "9   0.126631    0.05679 -0.00218721   0.0273014   0.053686  0.0668782   \n",
       "\n",
       "         6           7           8           9      ...              320  \\\n",
       "0   -1.04954    -1.05966     -1.0764    -1.07187    ...        0.0117761   \n",
       "1   -1.05407     -1.0614    -1.08896    -1.08792    ...       0.00715307   \n",
       "2   0.243073    0.309012    0.227373    0.295754    ...        0.0071759   \n",
       "3     1.4062     1.45039     1.45711     1.46479    ...       -0.0319854   \n",
       "4  0.0226453   0.0304055   0.0529099   0.0878307    ...      0.000621857   \n",
       "5  0.0412697  0.00402092  0.00945303 -0.00761932    ...       -0.0398286   \n",
       "6   0.150688    0.205785    0.176297    0.252346    ...       -0.0588397   \n",
       "7   0.252346    0.173968    0.268642    0.177849    ...       -0.0465849   \n",
       "8  0.0668782    0.054462   0.0187652  0.00246889    ...       0.00700727   \n",
       "9   0.054462   0.0187652  0.00246889   -0.039436    ...        0.0340708   \n",
       "\n",
       "         321         322         323        324         325        326  \\\n",
       "0  0.0231854  -0.0955195  0.00328217  0.0742292  -0.0353203  0.0500222   \n",
       "1  0.0783223   -0.140327    0.020263   0.121062   0.0156239  0.0392349   \n",
       "2  0.0253402    -0.11671   -0.107395 -0.0173618  -0.0779916  0.0577917   \n",
       "3  0.0810131   -0.100869  -0.0154728  0.0432115 -0.00685893  0.0404974   \n",
       "4  0.0309769  -0.0957508  -0.0818827  0.0483043  0.00639102   0.065712   \n",
       "5  0.0799209  -0.0916625  -0.0289409  0.0768208    -0.02055   0.060055   \n",
       "6    0.07023   -0.108563  -0.0435956   0.126288  -0.0381047  0.0183672   \n",
       "7  0.0462824   -0.111148  -0.0424118   0.111457   0.0306361  0.0971678   \n",
       "8  0.0761371 -0.00386824   0.0107615    0.05686    0.069796   0.044813   \n",
       "9  0.0671058  -0.0217082  -0.0695547  0.0261832  0.00381007  0.0554926   \n",
       "\n",
       "          327         328        329  \n",
       "0    0.081045   0.0923203  0.0282475  \n",
       "1    0.019112  -0.0530842 -0.0786969  \n",
       "2  -0.0649507    0.111301 -0.0501828  \n",
       "3   0.0571148   0.0160453 -0.0166533  \n",
       "4  0.00459763   0.0975757 -0.0178957  \n",
       "5   0.0261428 -0.00774097 -0.0994857  \n",
       "6   0.0291315   0.0204608 -0.0315321  \n",
       "7   0.0864718   0.0846592  -0.078386  \n",
       "8  -0.0189239  -0.0181145  0.0260923  \n",
       "9 -0.00324145  -0.0109841  0.0629922  \n",
       "\n",
       "[10 rows x 330 columns]"
      ]
     },
     "execution_count": 11,
     "metadata": {},
     "output_type": "execute_result"
    }
   ],
   "source": [
    "X.head(10)"
   ]
  },
  {
   "cell_type": "code",
   "execution_count": 12,
   "metadata": {
    "collapsed": true
   },
   "outputs": [],
   "source": [
    "df_concated=df_concated.apply(lambda x: pd.to_numeric(x, errors=\"coerce\"))\n",
    "#pd.to_numeric(X.iloc[:, 0], errors=\"coerce\")"
   ]
  },
  {
   "cell_type": "code",
   "execution_count": 13,
   "metadata": {
    "collapsed": true
   },
   "outputs": [],
   "source": [
    "df_concated=df_concated.dropna()"
   ]
  },
  {
   "cell_type": "markdown",
   "metadata": {},
   "source": [
    "### Modeling"
   ]
  },
  {
   "cell_type": "code",
   "execution_count": 15,
   "metadata": {
    "collapsed": true
   },
   "outputs": [],
   "source": [
    "from sklearn.model_selection import train_test_split \n",
    "X=df_concated.iloc[:, 0:330]\n",
    "y=df_concated.iloc[:, 330]\n",
    "X_train, X_test, y_train, y_test = train_test_split(X, y, test_size=0.25, random_state=42)"
   ]
  },
  {
   "cell_type": "code",
   "execution_count": 97,
   "metadata": {},
   "outputs": [
    {
     "ename": "KeyboardInterrupt",
     "evalue": "",
     "output_type": "error",
     "traceback": [
      "\u001b[0;31m---------------------------------------------------------------------------\u001b[0m",
      "\u001b[0;31mKeyboardInterrupt\u001b[0m                         Traceback (most recent call last)",
      "\u001b[0;32m<ipython-input-97-89852dd756b4>\u001b[0m in \u001b[0;36m<module>\u001b[0;34m()\u001b[0m\n\u001b[1;32m      1\u001b[0m \u001b[0mclf\u001b[0m\u001b[0;34m=\u001b[0m\u001b[0mSVC\u001b[0m\u001b[0;34m(\u001b[0m\u001b[0mprobability\u001b[0m\u001b[0;34m=\u001b[0m\u001b[0;32mTrue\u001b[0m\u001b[0;34m)\u001b[0m\u001b[0;34m\u001b[0m\u001b[0m\n\u001b[0;32m----> 2\u001b[0;31m \u001b[0mclf\u001b[0m\u001b[0;34m.\u001b[0m\u001b[0mfit\u001b[0m\u001b[0;34m(\u001b[0m\u001b[0mX_train\u001b[0m\u001b[0;34m,\u001b[0m \u001b[0my_train\u001b[0m\u001b[0;34m)\u001b[0m\u001b[0;34m\u001b[0m\u001b[0m\n\u001b[0m",
      "\u001b[0;32m~/anaconda3/lib/python3.6/site-packages/sklearn/svm/base.py\u001b[0m in \u001b[0;36mfit\u001b[0;34m(self, X, y, sample_weight)\u001b[0m\n\u001b[1;32m    185\u001b[0m \u001b[0;34m\u001b[0m\u001b[0m\n\u001b[1;32m    186\u001b[0m         \u001b[0mseed\u001b[0m \u001b[0;34m=\u001b[0m \u001b[0mrnd\u001b[0m\u001b[0;34m.\u001b[0m\u001b[0mrandint\u001b[0m\u001b[0;34m(\u001b[0m\u001b[0mnp\u001b[0m\u001b[0;34m.\u001b[0m\u001b[0miinfo\u001b[0m\u001b[0;34m(\u001b[0m\u001b[0;34m'i'\u001b[0m\u001b[0;34m)\u001b[0m\u001b[0;34m.\u001b[0m\u001b[0mmax\u001b[0m\u001b[0;34m)\u001b[0m\u001b[0;34m\u001b[0m\u001b[0m\n\u001b[0;32m--> 187\u001b[0;31m         \u001b[0mfit\u001b[0m\u001b[0;34m(\u001b[0m\u001b[0mX\u001b[0m\u001b[0;34m,\u001b[0m \u001b[0my\u001b[0m\u001b[0;34m,\u001b[0m \u001b[0msample_weight\u001b[0m\u001b[0;34m,\u001b[0m \u001b[0msolver_type\u001b[0m\u001b[0;34m,\u001b[0m \u001b[0mkernel\u001b[0m\u001b[0;34m,\u001b[0m \u001b[0mrandom_seed\u001b[0m\u001b[0;34m=\u001b[0m\u001b[0mseed\u001b[0m\u001b[0;34m)\u001b[0m\u001b[0;34m\u001b[0m\u001b[0m\n\u001b[0m\u001b[1;32m    188\u001b[0m         \u001b[0;31m# see comment on the other call to np.iinfo in this file\u001b[0m\u001b[0;34m\u001b[0m\u001b[0;34m\u001b[0m\u001b[0m\n\u001b[1;32m    189\u001b[0m \u001b[0;34m\u001b[0m\u001b[0m\n",
      "\u001b[0;32m~/anaconda3/lib/python3.6/site-packages/sklearn/svm/base.py\u001b[0m in \u001b[0;36m_dense_fit\u001b[0;34m(self, X, y, sample_weight, solver_type, kernel, random_seed)\u001b[0m\n\u001b[1;32m    252\u001b[0m                 \u001b[0mcache_size\u001b[0m\u001b[0;34m=\u001b[0m\u001b[0mself\u001b[0m\u001b[0;34m.\u001b[0m\u001b[0mcache_size\u001b[0m\u001b[0;34m,\u001b[0m \u001b[0mcoef0\u001b[0m\u001b[0;34m=\u001b[0m\u001b[0mself\u001b[0m\u001b[0;34m.\u001b[0m\u001b[0mcoef0\u001b[0m\u001b[0;34m,\u001b[0m\u001b[0;34m\u001b[0m\u001b[0m\n\u001b[1;32m    253\u001b[0m                 \u001b[0mgamma\u001b[0m\u001b[0;34m=\u001b[0m\u001b[0mself\u001b[0m\u001b[0;34m.\u001b[0m\u001b[0m_gamma\u001b[0m\u001b[0;34m,\u001b[0m \u001b[0mepsilon\u001b[0m\u001b[0;34m=\u001b[0m\u001b[0mself\u001b[0m\u001b[0;34m.\u001b[0m\u001b[0mepsilon\u001b[0m\u001b[0;34m,\u001b[0m\u001b[0;34m\u001b[0m\u001b[0m\n\u001b[0;32m--> 254\u001b[0;31m                 max_iter=self.max_iter, random_seed=random_seed)\n\u001b[0m\u001b[1;32m    255\u001b[0m \u001b[0;34m\u001b[0m\u001b[0m\n\u001b[1;32m    256\u001b[0m         \u001b[0mself\u001b[0m\u001b[0;34m.\u001b[0m\u001b[0m_warn_from_fit_status\u001b[0m\u001b[0;34m(\u001b[0m\u001b[0;34m)\u001b[0m\u001b[0;34m\u001b[0m\u001b[0m\n",
      "\u001b[0;31mKeyboardInterrupt\u001b[0m: "
     ]
    }
   ],
   "source": [
    "clf=SVC(probability=True)\n",
    "clf.fit(X_train, y_train)"
   ]
  },
  {
   "cell_type": "code",
   "execution_count": 123,
   "metadata": {},
   "outputs": [
    {
     "data": {
      "text/plain": [
       "1870"
      ]
     },
     "execution_count": 123,
     "metadata": {},
     "output_type": "execute_result"
    }
   ],
   "source": [
    "len(X_test)"
   ]
  },
  {
   "cell_type": "code",
   "execution_count": 16,
   "metadata": {},
   "outputs": [
    {
     "data": {
      "text/plain": [
       "RandomForestClassifier(bootstrap=True, class_weight=None, criterion='gini',\n",
       "            max_depth=None, max_features='auto', max_leaf_nodes=None,\n",
       "            min_impurity_decrease=0.0, min_impurity_split=None,\n",
       "            min_samples_leaf=1, min_samples_split=2,\n",
       "            min_weight_fraction_leaf=0.0, n_estimators=500, n_jobs=1,\n",
       "            oob_score=False, random_state=0, verbose=0, warm_start=False)"
      ]
     },
     "execution_count": 16,
     "metadata": {},
     "output_type": "execute_result"
    }
   ],
   "source": [
    "from sklearn.ensemble import RandomForestClassifier\n",
    "clf = RandomForestClassifier(n_estimators=500, random_state=0)\n",
    "clf.fit(X_train, y_train)"
   ]
  },
  {
   "cell_type": "markdown",
   "metadata": {},
   "source": [
    "### ROC Figure Ploting"
   ]
  },
  {
   "cell_type": "code",
   "execution_count": 20,
   "metadata": {},
   "outputs": [],
   "source": [
    "from sklearn.metrics import roc_curve, auc\n",
    "y_predict=clf.predict_proba(X_test)\n",
    "fpr, tpr, _=roc_curve(y_test.ravel(), y_predict[:, 1].ravel())\n",
    "roc_auc = auc(fpr, tpr)"
   ]
  },
  {
   "cell_type": "code",
   "execution_count": 22,
   "metadata": {},
   "outputs": [
    {
     "data": {
      "image/png": "[encoded data removed]",
      "text/plain": [
       "<matplotlib.figure.Figure at 0x134cca240>"
      ]
     },
     "metadata": {},
     "output_type": "display_data"
    }
   ],
   "source": [
    "import matplotlib.pyplot as plt\n",
    "plt.figure(figsize=(10, 8))\n",
    "lw = 2\n",
    "plt.plot(fpr, tpr, color='darkorange',\n",
    "         lw=lw, label='ROC curve (area = %0.2f)' % roc_auc)\n",
    "plt.plot([0, 1], [0, 1], color='navy', lw=lw, linestyle='--')\n",
    "plt.xlim([0.0, 1.0])\n",
    "plt.ylim([0.0, 1.05])\n",
    "plt.xlabel('False Positive Rate')\n",
    "plt.ylabel('True Positive Rate')\n",
    "plt.title('Receiver operating characteristic graph')\n",
    "plt.legend(loc=\"lower right\")\n",
    "plt.show()"
   ]
  },
  {
   "cell_type": "code",
   "execution_count": null,
   "metadata": {
    "collapsed": true
   },
   "outputs": [],
   "source": []
  }
 ],
 "metadata": {
  "kernelspec": {
   "display_name": "Python 3",
   "language": "python",
   "name": "python3"
  },
  "language_info": {
   "codemirror_mode": {
    "name": "ipython",
    "version": 3
   },
   "file_extension": ".py",
   "mimetype": "text/x-python",
   "name": "python",
   "nbconvert_exporter": "python",
   "pygments_lexer": "ipython3",
   "version": "3.6.3"
  }
 },
 "nbformat": 4,
 "nbformat_minor": 2
}
