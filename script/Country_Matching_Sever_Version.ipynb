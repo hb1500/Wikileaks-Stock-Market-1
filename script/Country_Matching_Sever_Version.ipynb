{
 "cells": [
  {
   "cell_type": "code",
   "execution_count": 1,
   "metadata": {
    "collapsed": true
   },
   "outputs": [],
   "source": [
    "Country_Tags={'TH - Thailand':'thailand','NO - Norway':'norway','NZ - New Zealand':'new zealand', 'HK - Hong Kong':'hong kong','BR - Brazil':'brazil', \n",
    "              'CE - Sri Lanka':'sri lanka','SW - Sweden':'sweden','AS - Australia':'australia','CH - China (Mainland)':'china','VE - Venezuela':'venezuela',\n",
    "              'UK - United Kingdom':'united kingdom','TW - Taiwan':\"taiwan\",'CA - Canada':'canada','DA - Denmark':'denmark','IN - India':'india','JA - Japan; Okinawa;':'japan',\n",
    "              'KS - Korea (South)':'korea','MY - Malaysia':'malaysia','MX - Mexico':'mexico',\n",
    "              'SF - South Africa':'south africa','SN - Singapore':'singapore'}"
   ]
  },
  {
   "cell_type": "code",
   "execution_count": 2,
   "metadata": {
    "collapsed": true
   },
   "outputs": [],
   "source": [
    "keys_to_delete=['Raw content', 'Metadata', 'Canonical ID', 'Original Classification', \n",
    "                'Current Classification', 'Handling Restrictions', 'Character Count', 'Executive Order', \n",
    "                'Locator', 'Concepts', 'Enclosure', 'Type', 'Office Origin', 'Office Action', \n",
    "                'Archive Status', 'From', 'Markings', 'To', 'text2vec', \"TAGS\"]"
   ]
  },
  {
   "cell_type": "code",
   "execution_count": 24,
   "metadata": {
    "collapsed": true
   },
   "outputs": [],
   "source": [
    "def del_add_country_list(filename):\n",
    "    ##load data\n",
    "    file=open(file_name)\n",
    "    data = json.load(file)\n",
    "    file.close()\n",
    "    ##del cable that cannot match\n",
    "    del_list=set()\n",
    "    for key in data.keys():\n",
    "#         print (key+\":\")\n",
    "        found_country_tag=False\n",
    "        if \"TAGS\" not in data[key].keys():\n",
    "            print('Hi')\n",
    "            continue\n",
    "        for tag in data[key][\"TAGS\"].split(\"|\"):\n",
    "            Tag=tag.strip()\n",
    "            if Tag in Country_Tags:\n",
    "                found_country_tag=True\n",
    "        if (not found_country_tag):\n",
    "            del_list.add(key)\n",
    "    \n",
    "    ##del keys\n",
    "    for item in del_list:\n",
    "        del data[item]\n",
    "    ##set key to 0\n",
    "    for key in data.keys():\n",
    "        for Country in Country_Tags.keys():\n",
    "            data[key][Country_Tags[Country]]=0\n",
    "        try:\n",
    "            \n",
    "            for tag in data[key][\"TAGS\"].split(\"|\"):\n",
    "                Tag=tag.strip()\n",
    "                if Tag in Country_Tags.keys():\n",
    "                    data[key][Country_Tags[Tag]]=1\n",
    "        except:\n",
    "            pass\n",
    "    ##del text2vec key\n",
    "    #     for key in data.keys():\n",
    "#         for key_delete in keys_to_delete:\n",
    "#             try:\n",
    "#                 del data[key][key_delete]\n",
    "#             except:\n",
    "#                 pass\n",
    "    with open('./output/data_matching_{}'.format(file_name[13:]), 'w') as fp:\n",
    "        json.dump(data, fp)"
   ]
  },
  {
   "cell_type": "code",
   "execution_count": 25,
   "metadata": {},
   "outputs": [
    {
     "name": "stdout",
     "output_type": "stream",
     "text": [
      "Currently working on: data_crawled_2008.json\n",
      "Hi\n",
      "Hi\n"
     ]
    }
   ],
   "source": [
    "import glob \n",
    "import json\n",
    "for file_name in glob.glob(\"data_crawled_2008.json\"):\n",
    "    print (\"Currently working on:\", file_name)\n",
    "    del_add_country_list(file_name)"
   ]
  },
  {
   "cell_type": "code",
   "execution_count": null,
   "metadata": {
    "collapsed": true
   },
   "outputs": [],
   "source": []
  }
 ],
 "metadata": {
  "kernelspec": {
   "display_name": "Python 3",
   "language": "python",
   "name": "python3"
  },
  "language_info": {
   "codemirror_mode": {
    "name": "ipython",
    "version": 3
   },
   "file_extension": ".py",
   "mimetype": "text/x-python",
   "name": "python",
   "nbconvert_exporter": "python",
   "pygments_lexer": "ipython3",
   "version": "3.6.4"
  }
 },
 "nbformat": 4,
 "nbformat_minor": 2
}
