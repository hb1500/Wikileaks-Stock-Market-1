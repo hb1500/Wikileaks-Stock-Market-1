{
 "cells": [
  {
   "cell_type": "code",
   "execution_count": 19,
   "metadata": {
    "collapsed": true
   },
   "outputs": [],
   "source": [
    "Country_Tags={'TH - Thailand':'thailand','NO - Norway':'norway','NZ - New Zealand':'new zealand', 'HK - Hong Kong':'hong kong','BR - Brazil':'brazil', \n",
    "              'CE - Sri Lanka':'sri lanka','SW - Sweden':'sweden','AS - Australia':'australia','CH - China (Mainland)':'china','VE - Venezuela':'venezuela',\n",
    "              'UK - United Kingdom':'united kingdom','TW - Taiwan':\"taiwan\",'CA - Canada':'canada','DA - Denmark':'denmark','IN - India':'india','JA - Japan; Okinawa;':'japan',\n",
    "              'KS - Korea (South)':'korea','MY - Malaysia':'malaysia','MX - Mexico':'mexico',\n",
    "              'SF - South Africa':'south africa','SN - Singapore':'singapore'}"
   ]
  },
  {
   "cell_type": "code",
   "execution_count": 20,
   "metadata": {
    "collapsed": true
   },
   "outputs": [],
   "source": [
    "keys_to_delete=['Raw content', 'Metadata', 'Canonical ID', 'Original Classification', \n",
    "                'Current Classification', 'Handling Restrictions', 'Character Count', 'Executive Order', \n",
    "                'Locator', 'Concepts', 'Enclosure', 'Type', 'Office Origin', 'Office Action', \n",
    "                'Archive Status', 'From', 'Markings', 'To', 'text2vec', \"TAGS\"]"
   ]
  },
  {
   "cell_type": "code",
   "execution_count": 21,
   "metadata": {
    "collapsed": true
   },
   "outputs": [],
   "source": [
    "def del_add_country_list(filename):\n",
    "    ##load data\n",
    "    file=open(file_name)\n",
    "    data = json.load(file)\n",
    "    file.close()\n",
    "    ##del cable that cannot match\n",
    "    del_list=set()\n",
    "    for key in data.keys():\n",
    "        #print (key+\":\")\n",
    "        found_country_tag=False\n",
    "        if \"TAGS\" not in data[key].keys():\n",
    "            return\n",
    "        for tag in data[key][\"TAGS\"].split(\"|\"):\n",
    "            Tag=tag.strip()\n",
    "            if Tag in Country_Tags:\n",
    "                found_country_tag=True\n",
    "        if (not found_country_tag):\n",
    "            del_list.add(key)\n",
    "    ##del keys\n",
    "    for item in del_list:\n",
    "        del data[item]\n",
    "    ##set key to 0\n",
    "    for key in data.keys():\n",
    "        for Country in Country_Tags.keys():\n",
    "            data[key][Country_Tags[Country]]=0\n",
    "        try:\n",
    "            for tag in data[key][\"TAGS\"].split(\"|\"):\n",
    "                Tag=tag.strip()\n",
    "                if Tag in Country_Tags.keys():\n",
    "                    data[key][Country_Tags[Tag]]=1\n",
    "        except:\n",
    "            pass\n",
    "    ##del text2vec key\n",
    "    #     for key in data.keys():\n",
    "#         for key_delete in keys_to_delete:\n",
    "#             try:\n",
    "#                 del data[key][key_delete]\n",
    "#             except:\n",
    "#                 pass\n",
    "    with open('./output/data_matching_{}'.format(file_name[13:]), 'w') as fp:\n",
    "        json.dump(data, fp)"
   ]
  },
  {
   "cell_type": "code",
   "execution_count": 22,
   "metadata": {},
   "outputs": [
    {
     "name": "stdout",
     "output_type": "stream",
     "text": [
      "Currently working on: data_crawled_2010.json\n"
     ]
    }
   ],
   "source": [
    "import glob \n",
    "import json\n",
    "for file_name in glob.glob(\"*.json*\"):\n",
    "    print (\"Currently working on:\", file_name)\n",
    "    del_add_country_list(file_name)"
   ]
  },
  {
   "cell_type": "code",
   "execution_count": 29,
   "metadata": {},
   "outputs": [
    {
     "name": "stdout",
     "output_type": "stream",
     "text": [
      "Country_Matching_Sever_Version.ipynb \u001b[31mdata_crawled_2010.json\u001b[m\u001b[m\r\n",
      "\u001b[34mMatching Data\u001b[m\u001b[m                        \u001b[34moutput\u001b[m\u001b[m\r\n",
      "\u001b[34mModel_dataset\u001b[m\u001b[m                        split_data.py\r\n",
      "Random_ Forest_Model.ipynb\r\n"
     ]
    }
   ],
   "source": [
    "!ls"
   ]
  },
  {
   "cell_type": "code",
   "execution_count": 33,
   "metadata": {
    "collapsed": true
   },
   "outputs": [],
   "source": [
    "import pandas as pd \n",
    "match = pd.read_json(open('./Matching Data/output_mergedasDF/merge_dataframe.json').read())"
   ]
  },
  {
   "cell_type": "code",
   "execution_count": 36,
   "metadata": {},
   "outputs": [
    {
     "data": {
      "text/plain": [
       "40607"
      ]
     },
     "execution_count": 36,
     "metadata": {},
     "output_type": "execute_result"
    }
   ],
   "source": [
    "len(match)"
   ]
  },
  {
   "cell_type": "code",
   "execution_count": 45,
   "metadata": {
    "collapsed": true
   },
   "outputs": [],
   "source": [
    "japan=pd.read_json(\"./Archive/final_taiwan\")"
   ]
  },
  {
   "cell_type": "code",
   "execution_count": 48,
   "metadata": {},
   "outputs": [
    {
     "data": {
      "text/plain": [
       "0       SHUI-BIAN'S NEW YEAR'S ADDRESS \\n \\n \\nSummary...\n",
       "1        \\n \\nA)  \"No Warning in Armitage Comments\" \\n...\n",
       "10       \\n1. (C) Summary.  Chinese President Hu Jinta...\n",
       "100     (d). \\n \\n1. (C) SUMMARY. In a June 30 farewel...\n",
       "1000         B. MIKULAK-NEELY EMAIL OF 12/20/2006 \\n \\...\n",
       "1001     \\n \\n1.  Director Stephen M. Young requests a...\n",
       "1002    PRESIDENT CHEN SHUI-BIAN'S \"FOUR WANTS\" REMARK...\n",
       "1003         B. TAIPEI 2682 \\n     C. TAIPEI 2475 \\n  ...\n",
       "1004    PRESIDENT CHEN SHUI-BIAN'S \"FOUR WANTS\" REMARK...\n",
       "1005     \\n \\n1.  SUMMARY:  Taiwan's current account s...\n",
       "1006     \\nClassified By: AIT Director Stephen M. Youn...\n",
       "1007     \\n 1. SUMMARY.  On March 2 the Legislative Yu...\n",
       "1008    Could Feed Concerns of Dependence \\n \\nRef: Ta...\n",
       "1009    Robert Griffiths.  Reasons 1.4 (b/d). \\n \\n1. ...\n",
       "101     1.4 (b) and (d). \\n \\n \\nSummary \\n------- \\n ...\n",
       "1010    AP AND CNN \\n \\n \\n1.  Summary:  Taiwan's news...\n",
       "1011     \\n1. (S/NOFORN) Summary. During a March 13 me...\n",
       "1012    Talks; U.S.-Iran \\n \\n \\n1.  Summary:  Taiwan'...\n",
       "1013    d). \\n \\n \\n1.  (C)  Summary:  Japan's ties wi...\n",
       "1014     \\n1.  (C)  Summary:  Taiwan Foreign Minister ...\n",
       "1015     \\n1.  (C)  Summary:  The People's Republic of...\n",
       "1016    General Naha, U.S. Department of State. \\nREAS...\n",
       "1017         B. 05 TAIPEI 2869 \\n     C. 05 TAIPEI 439...\n",
       "1018     \\n1.  (SBU)  This is an action request.  Plea...\n",
       "1019     \\n     B. TAIPEI 565 \\n \\nClassified By: AIT ...\n",
       "102     1.4 (b) and (d). \\n \\nSummary \\n------- \\n \\n1...\n",
       "1020     \\n \\n1.  Summary:  Taiwan's newspapers March ...\n",
       "1021     \\n1.  (C)  Summary: Four prominent Taiwan pol...\n",
       "1022    ASAT/MILITARY SPENDING, TIBET, TAIWAN, JAPAN, ...\n",
       "1023     \\n1.  The Taiwan Department of Health issued ...\n",
       "                              ...                        \n",
       "972      \\n     B. TAIPEI 278 \\n     C. 04 TAIPEI 3930...\n",
       "973      \\nClassified By: AIT Director Douglas Paal, R...\n",
       "974     Reasons: 1.4 (b/d) \\n \\n1.  (C) Summary: Over ...\n",
       "975      \\nClassified By: AIT Director Stephen M. Youn...\n",
       "976      \\n1. (SBU) On February 23, PolOff met with Co...\n",
       "977      \\n \\n1. Summary:  Taiwan's major Chinese-lang...\n",
       "978      \\nClassified By: DCM David Sedney.  Reasons 1...\n",
       "979      \\n     B. 06 TAIPEI 1481 \\n     C. 05 TAIPEI ...\n",
       "98           B. TAIPEI 526 AND PREVIOUS \\n \\n \\nClassi...\n",
       "980      \\n     B. 06 TAIPIE 4029 \\n     C. 04 TAIPEI ...\n",
       "981     Reasons: 1.4 (b/d) \\n \\n1.  (C) Summary: Presi...\n",
       "982      \\n \\n1. Summary:  Several major Chinese-langu...\n",
       "983     PEACEFUL DECLINE OF THE UNITED STATES \\n \\n \\n...\n",
       "984      \\n1. Summary. Thus far in 2005, Taiwan has 70...\n",
       "985      \\nSummary: While the major Chinese-language d...\n",
       "986      \\n     B. TAIPEI 2474 \\n     C. SECSTATE 9908...\n",
       "987      \\nClassified By: AIT Director Douglas Paal, R...\n",
       "988      \\n \\n1. Summary:  On March 6, the impact gene...\n",
       "989      \\n \\n1.  Summary:  Taiwan's Chinese National ...\n",
       "99       \\n1. Summary:  Taiwan's major Chinese-languag...\n",
       "990      \\nSENSITIVE BUT UNCLASSIFIED.  PLEASE PROTECT...\n",
       "991      \\n \\n1. Summary:  Taiwan's major Chinese-lang...\n",
       "992     REMARKS, U.S. PRESIDENTIAL ELECTION \\n \\n \\n1....\n",
       "993     Reasons: 1.4 (b/d) \\n \\n1.  (C) Summary: Premi...\n",
       "994      \\n     B. MANAGUA 0543 \\n     C. MANAGUA 0404...\n",
       "995      \\n(SBU)  On March 6, AIT Econoff delivered de...\n",
       "996      \\nRef: Taipei 335 \\nTaipei 325 \\nTaipei 308 \\...\n",
       "997      \\nTHIS DOCUMENT IS SENSITIVE BUT UNCLASSIFIED...\n",
       "998      \\n     B. TAIPEI 0356 \\n \\nClassified By: AIT...\n",
       "999     REMARKS, JAPAN \\n \\n \\n1. Summary:  As the 200...\n",
       "Name: Content, Length: 3313, dtype: object"
      ]
     },
     "execution_count": 48,
     "metadata": {},
     "output_type": "execute_result"
    }
   ],
   "source": [
    "japan[\"Content\"]"
   ]
  },
  {
   "cell_type": "code",
   "execution_count": 49,
   "metadata": {},
   "outputs": [
    {
     "data": {
      "text/plain": [
       "CountVectorizer(analyzer='word', binary=True, decode_error='strict',\n",
       "        dtype=<class 'numpy.int64'>, encoding='utf-8', input='content',\n",
       "        lowercase=True, max_df=1.0, max_features=None, min_df=1,\n",
       "        ngram_range=(1, 2), preprocessor=None, stop_words=None,\n",
       "        strip_accents=None, token_pattern='(?u)\\\\b\\\\w\\\\w+\\\\b',\n",
       "        tokenizer=None, vocabulary=None)"
      ]
     },
     "execution_count": 49,
     "metadata": {},
     "output_type": "execute_result"
    }
   ],
   "source": [
    "from sklearn.feature_extraction.text import CountVectorizer\n",
    "from sklearn.feature_extraction.text import TfidfVectorizer\n",
    "\n",
    "binary_vectorizer=CountVectorizer(binary = True, ngram_range = (1, 2))\n",
    "binary_vectorizer.fit(japan[\"Content\"])\n"
   ]
  },
  {
   "cell_type": "code",
   "execution_count": 50,
   "metadata": {
    "collapsed": true
   },
   "outputs": [],
   "source": [
    "X_train_binary = binary_vectorizer.transform(japan[\"Content\"])"
   ]
  },
  {
   "cell_type": "code",
   "execution_count": 54,
   "metadata": {},
   "outputs": [],
   "source": [
    "tfidf_vectorizer=TfidfVectorizer (binary =True, ngram_range = (1, 2))\n",
    "X_train_tfidf=tfidf_vectorizer.fit(japan[\"Content\"])\n",
    "sparse_matrix=X_train_tfidf.transform(japan[\"Content\"])"
   ]
  },
  {
   "cell_type": "code",
   "execution_count": 66,
   "metadata": {},
   "outputs": [
    {
     "data": {
      "text/plain": [
       "' \\n1.  (C) Summary.  According to Taiwan\\'s Mainland Affairs \\nCouncil (MAC), Beijing this afternoon, January 13,  accepted \\nTaiwan\\'s proposed delegation to participate in negotiations \\non direct cross-Strait charter flights around the Chinese New \\nYear.  At this still early point in the negotiation process, \\nboth sides have actually made small concessions -- Beijing by \\napparently accepting the presence of Taiwan government \\naviation officials in the Taiwan delegation, and Taiwan by \\npulling back from its adamant insistence that Taiwanese \\nofficials responsible for cross-Strait relations be included \\nin the Taiwan delegation.  In the face of growing Taiwan \\npublic hopes for a charter flight deal in time for the \\nChinese New Year, and of opposition Kuomintang (KMT) \\ndemonstration that its delegation to Beijing successfully \\nworked out arrangements for charter flights, the DPP \\ngovernment had been forced to accept Beijing and the KMT\\'s \\nagenda, and received a small concession from the PRC in \\nreturn.  End Summary. \\n \\nTaiwan Twice Responds \\n--------------------- \\n \\n2.  (C) Taiwan twice responded to the PRC Taiwan Affairs \\nOffice (TAO) call for what Taiwan calls the \"second round\" of \\nnegotiations, the \"first round\" being a meeting in Macao last \\nFriday, January 7, that MAC Chairman Joseph Wu insisted to \\nAIT had been \"very successful\" in setting the framework for \\nfurther negotiations.  Chen Chung-hsin, Counselor responsible \\nfor cross-strait relations at the National Security Council \\n(NSC), told AIT on January 11, that the government had \\nauthorized Taipei Airline Association (TAA) Director Michael \\nLo (Lo Ta-hsin) to transmit a proposed Taiwan five-person \\ndelegation list to Beijing consisting of:  TAA Director \\nMichael Lo, another airline industry representative, the \\nChief of the Civil Aeronautics Administration (CAA, under the \\nCommunication and Transportation Ministry), and one official \\neach from the Mainland Affairs Council (MAC) and the Straits \\nExchange Foundation (SEF).  Explaining that he is a \\n\"pragmatist\" who just wants to get charter flights moving, \\nChen said he had cautioned his \"colleagues\" that the MAC and \\nSEF officials would be automatically rejected by TAO.  That, \\nhe noted, is exactly what happened, as the TAO spokesman \\nannounced in a press conference in Beijing yesterday, January \\n12. \\n \\n3.  (C) That same afternoon, Chen said, the Taiwan government \\nworked out a new delegation list consisting of Michael Lo, \\nCAA Director Chang Kuo-cheng, one CAA staffer, and Mr. Lo\\'s \\nChief Secretary, which NSC Secretary-General Chiou I-jen \\napproved and which Michael Lo transmitted to his PRC CAA \\ncounterpart in Beijing.  Chen felt reasonably confident that \\nthis second list would be acceptable to Beijing, because, he \\nsaid, the TAO spokesman in Beijing had replied to a \\nreporter,s query on whether all Taiwan government officials \\nwould be unacceptable to Beijing by clarifying that he had \\nonly mentioned MAC and SEF. \\n \\n4.  (C) This afternoon, January 13, Joseph Wu called AIT to \\nsay that Taiwan had just received a positive response from \\nBeijing, accepting Taiwan\\'s revised delegation proposal. \\nShortly afterward, NSC Counselor Chen called to convey the \\nsame messagae, clearly delighted by the outcome and proud of \\nhis part in it.  The Taiwan side, Wu told AIT, had made one \\nlast ditch effort to get a MAC economist included in the \\ndelegation, but Beijing had refused.  Wu stated the two sides \\nare working out the details of meeting time and place, which \\nhe hopes will take place this weekend.  Final details will be \\nannounced at a government-wide -- MAC, NSC, MND, and Ministry \\nof Transport and Communications -- press conference tomorrow \\nafternoon, January 14, at 5:00 p.m. \\n \\nWay Forward \\n----------- \\n \\n5.  (C) In his meeting with AIT, Chen appeared more flexible \\non the issue of Taiwan government participation in charter \\nflight negotiations than MAC Chair Joseph Wu.  In public and \\nto AIT in private, Wu has continued to insist that Taiwan \\nwill only negotiate with China on charter flights according \\nto the \"Hong Kong model\" (the 2002 air service agreement \\nbetween Hong Kong and Taiwan by delegations nominally headed \\nby airline industry officials, but with all substantive \\nnegotiations done by government officials from both sides). \\nChen, however, supported revision of the proposed Taiwan \\ndelegation list, explaining to AIT that the \"Hong Kong model\" \\ncould be used for subsequent expanded cross-strait air \\nservice negotiations.  President Chen, he told AIT, had \\napproved of this graduated negotiation process, the third \\nstage of which would be negotiation on the \"three links\" \\n(commodity, transport, and post).   At the present stage, he \\nexplained, charter flights are the \"critical key\" on which \\nfuture progress depends.  First, he said, we must reduce \\ncross-Strait tensions. \\n \\n6.  (C) Chen told AIT that the DPP government was having to \\ntread very carefully on the cross-Strait issue, as many of \\nits supporters were hostile to any concessions on \\nnegotiations with China.  \"Liberty Times,\" he noted, \\nrepresented that contingent and functioned as a major \\nrestraint on the Government,s freedom of action.  Chen, \\nhowever, was just as dismissive of the KMT delegation to \\nBeijing as Joseph Wu and other DPP leaders.  The KMT trip, \\nChen charged bitterly, constituted Chinese government \\nintervention to help the KMT, which allowed itself to be used \\nby China.  He was particularly incensed at the claims by the \\nKMT that the charter flight issue had been resolved by the \\nKMT delegation to Beijing (see septel report on KMT Chairman \\nLien Chan,s meeting with the Director). \\n \\n \\nComment \\n------ \\n \\n7.  (C) The charter flight issue is playing out against the \\nbackdrop of  Taiwan,s bitter post-elections politics in the \\nrun up to the formation of the new government (i.e., \\nExecutive Yuan).  The KMT delegation visit to Beijing and \\nsubsequent KMT claims that it successfully negotiated a \\ncharter flight deal forced the Taipei government to move and \\nnecessitated the Taiwan government\\'s small but significant \\nback step on delegation composition.  Beijing saved Taipei \\nsome face by agreeing to two non-mainland related officials \\nin the Taiwan delegation.  This is better news than AIT is \\nused to. \\nPAAL \\n'"
      ]
     },
     "execution_count": 66,
     "metadata": {},
     "output_type": "execute_result"
    }
   ],
   "source": [
    "japan[\"Content\"][4]"
   ]
  },
  {
   "cell_type": "code",
   "execution_count": 69,
   "metadata": {},
   "outputs": [],
   "source": [
    "for name in X_train_tfidf.get_feature_names():\n",
    "    if \"\\n\" in name:\n",
    "        print (\"**\")"
   ]
  },
  {
   "cell_type": "code",
   "execution_count": 58,
   "metadata": {
    "collapsed": true
   },
   "outputs": [],
   "source": [
    "tfidf = TfidfVectorizer(vocabulary = X_train_tfidf, stop_words = 'english', ngram_range=(1,2))"
   ]
  },
  {
   "cell_type": "code",
   "execution_count": 59,
   "metadata": {},
   "outputs": [
    {
     "ename": "NotFittedError",
     "evalue": "TfidfVectorizer - Vocabulary wasn't fitted.",
     "output_type": "error",
     "traceback": [
      "\u001b[0;31m---------------------------------------------------------------------------\u001b[0m",
      "\u001b[0;31mNotFittedError\u001b[0m                            Traceback (most recent call last)",
      "\u001b[0;32m<ipython-input-59-e4ec47ad8244>\u001b[0m in \u001b[0;36m<module>\u001b[0;34m()\u001b[0m\n\u001b[0;32m----> 1\u001b[0;31m \u001b[0mtfidf\u001b[0m\u001b[0;34m.\u001b[0m\u001b[0mget_feature_names\u001b[0m\u001b[0;34m(\u001b[0m\u001b[0;34m)\u001b[0m\u001b[0;34m\u001b[0m\u001b[0m\n\u001b[0m",
      "\u001b[0;32m~/anaconda3/lib/python3.6/site-packages/sklearn/feature_extraction/text.py\u001b[0m in \u001b[0;36mget_feature_names\u001b[0;34m(self)\u001b[0m\n\u001b[1;32m    958\u001b[0m     \u001b[0;32mdef\u001b[0m \u001b[0mget_feature_names\u001b[0m\u001b[0;34m(\u001b[0m\u001b[0mself\u001b[0m\u001b[0;34m)\u001b[0m\u001b[0;34m:\u001b[0m\u001b[0;34m\u001b[0m\u001b[0m\n\u001b[1;32m    959\u001b[0m         \u001b[0;34m\"\"\"Array mapping from feature integer indices to feature name\"\"\"\u001b[0m\u001b[0;34m\u001b[0m\u001b[0m\n\u001b[0;32m--> 960\u001b[0;31m         \u001b[0mself\u001b[0m\u001b[0;34m.\u001b[0m\u001b[0m_check_vocabulary\u001b[0m\u001b[0;34m(\u001b[0m\u001b[0;34m)\u001b[0m\u001b[0;34m\u001b[0m\u001b[0m\n\u001b[0m\u001b[1;32m    961\u001b[0m \u001b[0;34m\u001b[0m\u001b[0m\n\u001b[1;32m    962\u001b[0m         return [t for t, i in sorted(six.iteritems(self.vocabulary_),\n",
      "\u001b[0;32m~/anaconda3/lib/python3.6/site-packages/sklearn/feature_extraction/text.py\u001b[0m in \u001b[0;36m_check_vocabulary\u001b[0;34m(self)\u001b[0m\n\u001b[1;32m    301\u001b[0m         \u001b[0;34m\"\"\"Check if vocabulary is empty or missing (not fit-ed)\"\"\"\u001b[0m\u001b[0;34m\u001b[0m\u001b[0m\n\u001b[1;32m    302\u001b[0m         \u001b[0mmsg\u001b[0m \u001b[0;34m=\u001b[0m \u001b[0;34m\"%(name)s - Vocabulary wasn't fitted.\"\u001b[0m\u001b[0;34m\u001b[0m\u001b[0m\n\u001b[0;32m--> 303\u001b[0;31m         \u001b[0mcheck_is_fitted\u001b[0m\u001b[0;34m(\u001b[0m\u001b[0mself\u001b[0m\u001b[0;34m,\u001b[0m \u001b[0;34m'vocabulary_'\u001b[0m\u001b[0;34m,\u001b[0m \u001b[0mmsg\u001b[0m\u001b[0;34m=\u001b[0m\u001b[0mmsg\u001b[0m\u001b[0;34m)\u001b[0m\u001b[0;34m,\u001b[0m\u001b[0;34m\u001b[0m\u001b[0m\n\u001b[0m\u001b[1;32m    304\u001b[0m \u001b[0;34m\u001b[0m\u001b[0m\n\u001b[1;32m    305\u001b[0m         \u001b[0;32mif\u001b[0m \u001b[0mlen\u001b[0m\u001b[0;34m(\u001b[0m\u001b[0mself\u001b[0m\u001b[0;34m.\u001b[0m\u001b[0mvocabulary_\u001b[0m\u001b[0;34m)\u001b[0m \u001b[0;34m==\u001b[0m \u001b[0;36m0\u001b[0m\u001b[0;34m:\u001b[0m\u001b[0;34m\u001b[0m\u001b[0m\n",
      "\u001b[0;32m~/anaconda3/lib/python3.6/site-packages/sklearn/utils/validation.py\u001b[0m in \u001b[0;36mcheck_is_fitted\u001b[0;34m(estimator, attributes, msg, all_or_any)\u001b[0m\n\u001b[1;32m    766\u001b[0m \u001b[0;34m\u001b[0m\u001b[0m\n\u001b[1;32m    767\u001b[0m     \u001b[0;32mif\u001b[0m \u001b[0;32mnot\u001b[0m \u001b[0mall_or_any\u001b[0m\u001b[0;34m(\u001b[0m\u001b[0;34m[\u001b[0m\u001b[0mhasattr\u001b[0m\u001b[0;34m(\u001b[0m\u001b[0mestimator\u001b[0m\u001b[0;34m,\u001b[0m \u001b[0mattr\u001b[0m\u001b[0;34m)\u001b[0m \u001b[0;32mfor\u001b[0m \u001b[0mattr\u001b[0m \u001b[0;32min\u001b[0m \u001b[0mattributes\u001b[0m\u001b[0;34m]\u001b[0m\u001b[0;34m)\u001b[0m\u001b[0;34m:\u001b[0m\u001b[0;34m\u001b[0m\u001b[0m\n\u001b[0;32m--> 768\u001b[0;31m         \u001b[0;32mraise\u001b[0m \u001b[0mNotFittedError\u001b[0m\u001b[0;34m(\u001b[0m\u001b[0mmsg\u001b[0m \u001b[0;34m%\u001b[0m \u001b[0;34m{\u001b[0m\u001b[0;34m'name'\u001b[0m\u001b[0;34m:\u001b[0m \u001b[0mtype\u001b[0m\u001b[0;34m(\u001b[0m\u001b[0mestimator\u001b[0m\u001b[0;34m)\u001b[0m\u001b[0;34m.\u001b[0m\u001b[0m__name__\u001b[0m\u001b[0;34m}\u001b[0m\u001b[0;34m)\u001b[0m\u001b[0;34m\u001b[0m\u001b[0m\n\u001b[0m\u001b[1;32m    769\u001b[0m \u001b[0;34m\u001b[0m\u001b[0m\n\u001b[1;32m    770\u001b[0m \u001b[0;34m\u001b[0m\u001b[0m\n",
      "\u001b[0;31mNotFittedError\u001b[0m: TfidfVectorizer - Vocabulary wasn't fitted."
     ]
    }
   ],
   "source": [
    "tfidf.get_feature_names()"
   ]
  },
  {
   "cell_type": "code",
   "execution_count": null,
   "metadata": {
    "collapsed": true
   },
   "outputs": [],
   "source": []
  }
 ],
 "metadata": {
  "kernelspec": {
   "display_name": "Python 3",
   "language": "python",
   "name": "python3"
  },
  "language_info": {
   "codemirror_mode": {
    "name": "ipython",
    "version": 3
   },
   "file_extension": ".py",
   "mimetype": "text/x-python",
   "name": "python",
   "nbconvert_exporter": "python",
   "pygments_lexer": "ipython3",
   "version": "3.6.3"
  }
 },
 "nbformat": 4,
 "nbformat_minor": 2
}
